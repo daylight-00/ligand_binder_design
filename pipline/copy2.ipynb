{
 "cells": [
  {
   "cell_type": "code",
   "execution_count": 1,
   "id": "975af0ea",
   "metadata": {},
   "outputs": [
    {
     "name": "stderr",
     "output_type": "stream",
     "text": [
      "100%|██████████| 9/9 [00:02<00:00,  4.21it/s]\n"
     ]
    }
   ],
   "source": [
    "import os\n",
    "import shutil\n",
    "from multiprocessing import Pool, cpu_count\n",
    "from tqdm import tqdm\n",
    "from glob import glob\n",
    "\n",
    "# 원본 디렉토리 리스트 (한 줄에 하나씩 입력)\n",
    "DIRS = glob(\"/home/hwjang/aipd/noahs_ark/finished/2_r1_pht_b2/*\")\n",
    "\n",
    "SRC_ROOT = \"/home/hwjang/aipd/\"\n",
    "DST_ROOT = \".\"\n",
    "\n",
    "def ignore_output_dirs(dir, contents):\n",
    "    # 'output' 폴더는 무시\n",
    "    return [item for item in contents if item == 'output.tar']\n",
    "\n",
    "def copy_dir(src_dir):\n",
    "    rel_path = os.path.relpath(src_dir, SRC_ROOT)\n",
    "    dst_dir = os.path.join(DST_ROOT, rel_path)\n",
    "    os.makedirs(os.path.dirname(dst_dir), exist_ok=True)\n",
    "    if os.path.exists(dst_dir):\n",
    "        shutil.rmtree(dst_dir)\n",
    "    shutil.copytree(src_dir, dst_dir, ignore=ignore_output_dirs)\n",
    "    return src_dir\n",
    "\n",
    "def main():\n",
    "    with Pool(processes=32) as pool:\n",
    "        list(tqdm(pool.imap_unordered(copy_dir, DIRS), total=len(DIRS)))\n",
    "\n",
    "if __name__ == \"__main__\":\n",
    "    main()"
   ]
  }
 ],
 "metadata": {
  "kernelspec": {
   "display_name": "venv",
   "language": "python",
   "name": "python3"
  },
  "language_info": {
   "codemirror_mode": {
    "name": "ipython",
    "version": 3
   },
   "file_extension": ".py",
   "mimetype": "text/x-python",
   "name": "python",
   "nbconvert_exporter": "python",
   "pygments_lexer": "ipython3",
   "version": "3.13.2"
  }
 },
 "nbformat": 4,
 "nbformat_minor": 5
}
