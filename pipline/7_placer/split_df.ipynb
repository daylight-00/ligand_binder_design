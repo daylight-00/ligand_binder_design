{
 "cells": [
  {
   "cell_type": "code",
   "execution_count": 1,
   "id": "013144d6",
   "metadata": {},
   "outputs": [
    {
     "name": "stderr",
     "output_type": "stream",
     "text": [
      "/home/hwjang/miniforge3/envs/venv/lib/python3.13/site-packages/numpy/_core/fromnumeric.py:57: FutureWarning: 'DataFrame.swapaxes' is deprecated and will be removed in a future version. Please use 'DataFrame.transpose' instead.\n",
      "  return bound(*args, **kwds)\n"
     ]
    }
   ],
   "source": [
    "import pandas as pd\n",
    "import numpy as np\n",
    "import os\n",
    "\n",
    "df = pd.read_parquet('../4_rscore_filter/lmpnn_filt_pht.parquet')\n",
    "N = 4\n",
    "split_dfs = np.array_split(df, N)\n",
    "\n",
    "for i, split_df in enumerate(split_dfs):\n",
    "    os.makedirs(f'placer_input', exist_ok=True)\n",
    "    split_df = split_df.reset_index(drop=True)\n",
    "    split_df.to_parquet(f'placer_input/split_{i}.parquet')"
   ]
  }
 ],
 "metadata": {
  "kernelspec": {
   "display_name": "venv",
   "language": "python",
   "name": "python3"
  },
  "language_info": {
   "codemirror_mode": {
    "name": "ipython",
    "version": 3
   },
   "file_extension": ".py",
   "mimetype": "text/x-python",
   "name": "python",
   "nbconvert_exporter": "python",
   "pygments_lexer": "ipython3",
   "version": "3.13.2"
  }
 },
 "nbformat": 4,
 "nbformat_minor": 5
}
