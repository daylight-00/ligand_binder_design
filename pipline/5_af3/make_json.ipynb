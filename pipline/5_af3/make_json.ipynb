{
 "cells": [
  {
   "cell_type": "code",
   "execution_count": 1,
   "id": "919bf975",
   "metadata": {},
   "outputs": [],
   "source": [
    "import pandas as pd\n",
    "import os\n",
    "import json\n",
    "from tqdm import tqdm\n",
    "\n",
    "def make_json(name, sequence, lig, msa=True):\n",
    "    temp = {\n",
    "        \"name\": name,\n",
    "        \"sequences\": [\n",
    "            {\n",
    "                \"protein\": {\n",
    "                    \"id\": \"A\",\n",
    "                    \"sequence\": sequence\n",
    "                }\n",
    "            },\n",
    "            {\n",
    "                \"ligand\": {\n",
    "                    \"id\": \"B\",\n",
    "                    \"smiles\": lig,\n",
    "                }\n",
    "            }\n",
    "        ],\n",
    "        \"modelSeeds\": [1],\n",
    "        \"dialect\": \"alphafold3\",\n",
    "        \"version\": 1\n",
    "    }\n",
    "    if not msa:\n",
    "        temp[\"sequences\"][0][\"protein\"].update({\n",
    "            \"modifications\": [],\n",
    "            \"unpairedMsa\": \"\",\n",
    "            \"pairedMsa\": \"\",\n",
    "            \"templates\": []\n",
    "        })\n",
    "    return temp\n",
    "\n",
    "def write_json(data, name):\n",
    "    with open(name, 'w') as f:\n",
    "        json.dump(data, f)\n",
    "\n",
    "def process(out_path, df, lig, col='lmpnn', msa=False, NUM_FOLDERS=1):\n",
    "    for i in tqdm(range(len(df))):\n",
    "        name, sequence = df[((col, 'tag'))][i], df[((col, 'seq'))][i]\n",
    "        data = make_json(name, sequence, lig, msa)\n",
    "        folder_index = i % NUM_FOLDERS  \n",
    "        folder_path = f'{out_path}/{folder_index}'\n",
    "        if not os.path.exists(folder_path):\n",
    "            os.makedirs(folder_path, exist_ok=True)\n",
    "        write_json(data, f'{folder_path}/{name}.json')\n"
   ]
  },
  {
   "cell_type": "code",
   "execution_count": 2,
   "id": "609f14c6",
   "metadata": {},
   "outputs": [
    {
     "name": "stderr",
     "output_type": "stream",
     "text": [
      "100%|██████████| 36/36 [00:00<00:00, 1917.66it/s]\n"
     ]
    }
   ],
   "source": [
    "projects = ['pht_demo']\n",
    "mappings = {\n",
    "    'pht': 'C1=CC=C(C=C1)C2(C(=O)NC(=O)N2)C3=CC=CC=C3',\n",
    "    }\n",
    "df = pd.read_parquet('../4_rscore_filter/lmpnn_filt_pht.parquet')\n",
    "out_path = 'json'\n",
    "col_1 = 'lmpnn'\n",
    "msa = False\n",
    "NUM_FOLDERS = 4\n",
    "for project in projects:\n",
    "    df_ = df[df[('diffusion', 'batch')] == project].reset_index(drop=True)\n",
    "    lig_name = project.split('_')[0]\n",
    "    lig = mappings[lig_name]\n",
    "    process(out_path, df_, lig, col=col_1, msa=msa, NUM_FOLDERS=NUM_FOLDERS)"
   ]
  }
 ],
 "metadata": {
  "kernelspec": {
   "display_name": "venv",
   "language": "python",
   "name": "python3"
  },
  "language_info": {
   "codemirror_mode": {
    "name": "ipython",
    "version": 3
   },
   "file_extension": ".py",
   "mimetype": "text/x-python",
   "name": "python",
   "nbconvert_exporter": "python",
   "pygments_lexer": "ipython3",
   "version": "3.13.2"
  }
 },
 "nbformat": 4,
 "nbformat_minor": 5
}
