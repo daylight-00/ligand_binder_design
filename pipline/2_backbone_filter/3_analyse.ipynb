{
 "cells": [
  {
   "cell_type": "code",
   "execution_count": 1,
   "id": "15d39f1c",
   "metadata": {},
   "outputs": [
    {
     "data": {
      "application/vnd.microsoft.datawrangler.viewer.v0+json": {
       "columns": [
        {
         "name": "index",
         "rawType": "int64",
         "type": "integer"
        },
        {
         "name": "id",
         "rawType": "object",
         "type": "string"
        },
        {
         "name": "path",
         "rawType": "object",
         "type": "string"
        },
        {
         "name": "dssp",
         "rawType": "object",
         "type": "string"
        },
        {
         "name": "sasa",
         "rawType": "float64",
         "type": "float"
        }
       ],
       "ref": "766b15ee-3dd0-4f4a-8580-26820d6c3d83",
       "rows": [
        [
         "0",
         "result_0",
         "../1_diffusion/output/result_0.pdb",
         "LLLEEEEEEELLLLLEEEEEEEELLLEEEEEEEEELLLLLLLLEEEEELLLLLLLLLLLLLLHHHLLEEEEEEELLLLLEEEEEEELLLLLLEEEEEEEEELLL",
         "59.19808224424828"
        ],
        [
         "1",
         "result_1",
         "../1_diffusion/output/result_1.pdb",
         "LEEEEEELHHHHHHHHHHHHHHLLLLLHHHLLHHHHHHHHHHHHHHHLLLLLEEEEEEEELLLLLLLLLLLLHHHHHHHHHHHHLLEEELLLLLLLLLLLEEEEEEEEEELLL",
         "53.12577838874877"
        ],
        [
         "2",
         "result_2",
         "../1_diffusion/output/result_2.pdb",
         "LLLHHHHHHHHHHHHHHLLLHHHHHHHHHHHHHHLHHHHHHHHHHHHHHHLLLLLHHHHHHHHHHHHHHHHLLLHHHHHHHHHHHHLLLLLLHHHHHHHHHHHHHLLL",
         "52.0621925043061"
        ],
        [
         "3",
         "result_3",
         "../1_diffusion/output/result_3.pdb",
         "LHHHHHHHHHHHHHLLLLHHHHHHHHHHHHHHHHHHHHHHHHHLLLHHHHHHHHHHHHHHHHHLLLLLLHHHHHHHLLLLLHHHHHHHHHHHHHHHLHHHHHHHHHLLLLLHHHHHHHHHHHHHHLL",
         "53.22045817928765"
        ],
        [
         "4",
         "result_4",
         "../1_diffusion/output/result_4.pdb",
         "LLLHHHHHHHLHHHHHHLLHHHHHHHHLLLLLLLHHHHHHHHHHHLHHHHHHHHHHHHHLLLHHHHHHHHHHHHHHHLLLLLHHHHHHHHHHHHHHHHHHHHHHLL",
         "57.70694019977239"
        ],
        [
         "5",
         "result_5",
         "../1_diffusion/output/result_5.pdb",
         "LEEEEEEEEELLLLHHHHLLLLHHHHHHHHHLEEEEEEEELLLLEEEEEEEEELLLHHHHHLLLHHHHHHHHHHHHLHHHHHHHHHHHHHHHHLLLLHHHHHHHHHHHHHLLLLLEEEEEEEEEELLL",
         "58.42611170414001"
        ],
        [
         "6",
         "result_6",
         "../1_diffusion/output/result_6.pdb",
         "LLLHHHHHHLLLLLLLLHHHHHHHHHHLLLLLLLHHHHHHHHHHHHLLLHHHHHHHHHHHHHHLLHHHHHHHHHHHHLLLLLLLLLLLLLLHHHHHHHHHHHHHHHLLLL",
         "78.58888354223056"
        ],
        [
         "7",
         "result_7",
         "../1_diffusion/output/result_7.pdb",
         "LHHHHHHHHHHLLLLLLLHHHHHHHHHHHHLLLLLLHHHHHHHHHHHHHLLLLLLHHHHHHHHHHHHHHHHHLLLLLHHHHHHHHHLLLHHHHHHHHHHHHHLLLHHHHHHHHHHHHHHHHHHLLL",
         "54.49858026344119"
        ],
        [
         "8",
         "result_8",
         "../1_diffusion/output/result_8.pdb",
         "LLHHHHHHHHHHHHHLLLLLLLLLLEEHHHEELLLEEEELLEEEEEHHHHHHHHHHHHHLLLLLLEEEELLLLHHHLLLLLHHHHHHHLEEEELLLLHHHHHHHHHHHHHHHLLLLHHHHHHHLLELLLL",
         "75.70741577186885"
        ],
        [
         "9",
         "result_9",
         "../1_diffusion/output/result_9.pdb",
         "LLLLLLLLHHHHHHHHHHLLLLEELLLLELLLLLLHHHHHHHHHHLLHHHHHHHHHHHHHHELLLLLLLEHHHHLLLHHHHHHHHELLLLHHHHHHHHHHHHLLL",
         "67.97178594057578"
        ],
        [
         "10",
         "result_10",
         "../1_diffusion/output/result_10.pdb",
         "LEEEEEELLLHHHHHHHHHHHHHHLEEEEEELLLHHHHHHHHHHHHHHHHLLLLLLHHHHHHHHHHHHHHHLLLLEEEEEELLLLHHHHHHHHHHLLLLLEEEEELL",
         "56.74273309701034"
        ],
        [
         "11",
         "result_11",
         "../1_diffusion/output/result_11.pdb",
         "LHHHHHHHHHHHHHHHHHHHHHHHHLHHHHHHHHHHHHHHHHHHHHHHLLLLHHHHHHHHHHHHHHHHHHHHHHHHHHHHHHHHHHHHHHHHHHHHHLLLL",
         "62.7214766970657"
        ],
        [
         "12",
         "result_12",
         "../1_diffusion/output/result_12.pdb",
         "LEEEEEEEELLLLLEEEHHHHHHHHHHHHHHLLEEEEEEEELLLLLLLLEEELLLEEEEEEEEELHHHHHHHHHHHHHHHHHHHHLLLLHHHHHHHHHLHHHHHHLLLLLLL",
         "66.95977661555733"
        ],
        [
         "13",
         "result_13",
         "../1_diffusion/output/result_13.pdb",
         "LLHHHHHHHHHHHHHLLEHHHHHHHHHHHHHLLHHHHHHHHHHHHHHHHHLLLLHHHHHHHHHHHLLLLHHHHHHHHHHHHHHHHHLHHHHHHHHHHHHHHHHHHHHLLLLLELLLL",
         "62.15203298551304"
        ],
        [
         "14",
         "result_14",
         "../1_diffusion/output/result_14.pdb",
         "LHHHHHHHHHHHHHLLLHHHHHHHHHHHHHHHLLLHHHHHHHHHHHHHHHHHHHHHHHHHHHHHHHHLLLHHHHHHHHHHHHHHHHHHLHHHHHLLLLLEELLEELLLHHHHHHHHHHHHHLL",
         "60.61768695712352"
        ],
        [
         "15",
         "result_15",
         "../1_diffusion/output/result_15.pdb",
         "LLHHHHHHHHHHHHHHHHHHHHHHHHLLLHHHHHHHHHHHHHHLHHHHHHHHLLLLHHHHHHHHHHHLLLLLLHHHHHHHHHLHHHHHHHHHHHHHHHHLLLLLHHHHHHHHHHHHHHHHHHLL",
         "53.9801747078002"
        ],
        [
         "16",
         "result_16",
         "../1_diffusion/output/result_16.pdb",
         "LLLHHHHHHHHHHHHHHHHHHHHHHHHHHHHHLLLLLLLHHHHHHLLHHHHHHLLLLHHHHHHHHHHHHHHHLLLHHHHHHHHHHHHHHHLLLLHHHHHHHHHHHHHHHLL",
         "82.00917876783957"
        ],
        [
         "17",
         "result_17",
         "../1_diffusion/output/result_17.pdb",
         "LLLLLLLHHHHHHHHHHHHHHHLLLHHHHHHHHHHHHHHLLLLHHHHHHHHHHHHHLLLHHHHHHHHHHHHHHHHLHHHHHHHHHHHHHHHHHHLLHHHHHHHHHHHHHHLHHHHHHHHHLLLL",
         "56.396391377414496"
        ],
        [
         "18",
         "result_18",
         "../1_diffusion/output/result_18.pdb",
         "LLLLELLLELLHHHHHHHHHHHHHHLLLELLLLLLLLLLLLHHHHHHHHHHHHHLLLLLLLLHHHHHHHLLHHHHHHHHHHHHLLLEEEELLHHHHLLLELLLEEELLLL",
         "63.38748598440576"
        ],
        [
         "19",
         "result_19",
         "../1_diffusion/output/result_19.pdb",
         "LHHHHHHHHHHHHHHHHHHLLLLLLLLLLHHHHHHHHHHHLLLLHHHHHHHHHHHHHHLHHHHLLLLLHHHLLHHHHHHHHHHLHHHHLLHHHHHHHHHHHHHHHHHLLL",
         "57.20840693128691"
        ],
        [
         "20",
         "result_20",
         "../1_diffusion/output/result_20.pdb",
         "LLHHHHHHHHHHHHHHHHHHHHHHHHHLHHHHHHHHHHHHHHHHHHLLHHHHHHHHHHHHHHHHHLLLLHHHHHHHHHLHHHHHHHLHHHHHHHHHHHHHHHHHHHHHHLL",
         "60.519219998000736"
        ],
        [
         "21",
         "result_21",
         "../1_diffusion/output/result_21.pdb",
         "LLLHHHHHHHHHHHHHHLHHHHHHHHHHHHHHHHHHLHHHHHHHHLLLLLLLLLLHHHHHHHHLLLLLLLLLLLLHHHHHHHHHHHLLLHHHHHHHHHHHHHHHHHLLHHHHHHHHHHHHLL",
         "54.293224596302906"
        ],
        [
         "22",
         "result_22",
         "../1_diffusion/output/result_22.pdb",
         "LLHHHHHHHHHHHHHHHHHHHHHLLLLLLLEEEEELLLLEEEEELLLLLLLLLLEEEEHHHHHHHHHHHHHHHLLHHHHHHHHHHHHHHHHHHHHHHHHHHHHHHHHLL",
         "65.49514473117618"
        ],
        [
         "23",
         "result_23",
         "../1_diffusion/output/result_23.pdb",
         "LHHHHHHHHHHHHHHHHHHHHHHHHHHHHHLLLLLLLLHHHHHHHHHHHHLLLLHHHHHHHHHHLLLHHHHHHHHHHHHHHLHHHHHHHHHHHHHHHLLLLLLLLLLLHHHHHHHHHHHHHHLL",
         "59.50860839151698"
        ],
        [
         "24",
         "result_24",
         "../1_diffusion/output/result_24.pdb",
         "LLHHHHHHHHHHHHHHHHHHLLLLHHHHHHHHHHHHHHLLLLHHHHHHHHHHHHHHHLHHHHHHHHHHLLLLLHHHLLLLLHHHHHHHHHHLLLLHHHHHHHHHHHHHHHHLL",
         "75.05757228715551"
        ],
        [
         "25",
         "result_25",
         "../1_diffusion/output/result_25.pdb",
         "LLLLLHHHHHHHHHHLLHHHHHHHHHHHHLLLLHHHHHHHHHHHHHHHHHHLLHHHHHHHLLLLLLHHHHHHHHHHHHHHHHLLLLHHHHHHHHHHHLLHHHHHHHHHHHHHHLL",
         "53.66064220903051"
        ],
        [
         "26",
         "result_26",
         "../1_diffusion/output/result_26.pdb",
         "LHHHHHHHHHHHHHHHHHHHLLLLLHHHHHHHLLLELLELLHHHHHHHHHHHLLLLLHHHHHHHHHHHHHHHHLLHHHHHHHHHHHHHHHLLLLLHHHHHHHHHHLL",
         "52.45041675304503"
        ],
        [
         "27",
         "result_27",
         "../1_diffusion/output/result_27.pdb",
         "LEEEEEEELLLLLHHHHHHHHHHHHHHHHHHLLLLLEEEEEEEHHHHHHLHHHHHHHHHHHHHHLLEEEEELLLLLLLLLHHHHHHHHHHLLLLLEEEEELLLLLEELHHHHHHHHHHHHHLL",
         "58.61566525052288"
        ],
        [
         "28",
         "result_28",
         "../1_diffusion/output/result_28.pdb",
         "LLLLLLLLLLLLEEEELLLLLEEELLHHHHHHHHHHHHHHHHHHHHHHLLLHHHHHHHHHHHHHHHHHHHHHHLLHHHHHHHHHHHHHHHHHHLLLLLLHHHHHHHHLLLLLLHHHHHHHHHHLL",
         "56.596620843073325"
        ],
        [
         "29",
         "result_29",
         "../1_diffusion/output/result_29.pdb",
         "LHHHHHHHHHHHHHHHHHLLLLLLLHHHHHHHHLLLLHHHHHHLLLLHHHHHHHHHHLHHHHHHHHHHHHLLLLHHHHHHHHHHHHHHLLHHHHHHHHHHHHHHLL",
         "53.940271551273376"
        ],
        [
         "30",
         "result_30",
         "../1_diffusion/output/result_30.pdb",
         "LHHHHHHHHHHHHHHHLLLLLLHHHLLLLHHHHHHHHHHLLLLHHHHHHHHHHHHHHHHLHHHHHHHHHHHHHHHLLHHHHHHHHHHLLLLLLLHHHHHHHHLLLLL",
         "55.016909730253445"
        ],
        [
         "31",
         "result_31",
         "../1_diffusion/output/result_31.pdb",
         "LLLLHHHHHHHHHHHHHLHHHHHHHLLLHHHHHHHHHHHLLLLHHHHHHHHHHHHLLLLLLLLLLLLLLLHHHHHLLLLHHHHHHHHHHHHHHHHHHHHHHHHHHLLL",
         "51.73264551550197"
        ],
        [
         "32",
         "result_32",
         "../1_diffusion/output/result_32.pdb",
         "LHHHHHHHHLLHHHHHHHHHHHHHHHHHLLHHHHHHHHHHLLHHHHHHHHHHHHHHHHHHLLLLLLLLHHHHHHHHHHHHHHHHHHHLLLLLHHHHHHHHHHHHLLHHHHHHHHHHHHHHHLLLLLL",
         "56.36623547613189"
        ],
        [
         "33",
         "result_33",
         "../1_diffusion/output/result_33.pdb",
         "LLHHHHHHHHHHHHHHHHHHHLLLHHHHHHHHHLLLLHHHHHHHHHHLLLLLHHHHHHHHHHHLLLHHHHHHHHHHHHHHHHHHLLLLLLLLLLLLHHHHHHHHHLHHHHHHHHHHHHLL",
         "54.95735672520915"
        ],
        [
         "34",
         "result_34",
         "../1_diffusion/output/result_34.pdb",
         "LLLLLLLLLLLLLLHHHHHHHHLLLHHHHHHLLHHHHHHHHLLLHHHHHHHHHHHHHHHHHLHHHHHHHHHLLLLLLLLHHHHHHHHHHHHHHLHHHLLHHHHLLHHHHHHHHLLLL",
         "78.18633266332431"
        ],
        [
         "35",
         "result_35",
         "../1_diffusion/output/result_35.pdb",
         "LLLLLLLLLLHHHHHHHHHHHHHLHHHLLLLLHHHHHHHHHHHHHLLLLHHHHHHHHHHHHLLLLLLLLHHHHHHHHHHHHHHHLLHHHHHHHHHHLLLLHHHLLLLLLLHHHHHHHHHHHLLLLLLL",
         "54.855673206047"
        ],
        [
         "36",
         "result_36",
         "../1_diffusion/output/result_36.pdb",
         "LEEEEEEEEELLLHHHHHHHHHHHHHHHHHLLLLLEEEEEEEELLLLLLLEEEEEEEEEHHHHHHHHHHHHHLLLLLLLLLLLLELLLHHHHHHLLHHHHHHHHHHHLLLL",
         "75.78193263179749"
        ],
        [
         "37",
         "result_37",
         "../1_diffusion/output/result_37.pdb",
         "LLHHHHHHHHHHHHHHHHHHHLHHHHHHHHLLHHHHHHLLLLLHHHHHHHHHHHHHHHHHHHHLLHHHHHHHHHHHHHHHHHHLLLLLLLLLLLLLHHHLLHHHHHHHHHHHHHHHHHHHHHHHHHLLLLL",
         "75.22930843765378"
        ],
        [
         "38",
         "result_38",
         "../1_diffusion/output/result_38.pdb",
         "LHHHHHHHHHHHHHHHHHHLLLLLLLLLLLHHHHHHHHHHHLLLLHHHHHHHHHHHHHHLLLHHHHHHHHHHHHHHHHHHHHLLLLLLLLLHHHHHHHHHHHHHHHHHHHHLL",
         "66.19143690329724"
        ],
        [
         "39",
         "result_39",
         "../1_diffusion/output/result_39.pdb",
         "LLLLHHHHHHHHHHHHHHHLLLLLHHHHHHHHHHHHHHHLLLHHHHHHHHHHHHHHHHHHLLLLLLLLLHHHHHHHHHHHHHLLHHHHHHHHHHHHHHHHHHHLL",
         "85.6700265363558"
        ],
        [
         "40",
         "result_40",
         "../1_diffusion/output/result_40.pdb",
         "LLEEEELLLLLLLLHHHHHHHHHHHHHHLLEEEELLLLLLHHHHHHHHHHHHHHHHHHLLLEEELLLLEEELLLLLLLLLLLLLHHHHHHHHHHHHHLLLL",
         "56.093076881612944"
        ],
        [
         "41",
         "result_41",
         "../1_diffusion/output/result_41.pdb",
         "LEEEEEEELLHHHHHHHHHHHLLLLLEELLLLHHHHHHHHHHHLLLLEEEEEEELHHHHHHHHHHHHHHHHHHHLLLLLLLLLLLLLLLEEEEELLLLEEEEELLHHHLLLLHHHHHHHHHHHHHHLLL",
         "57.93936760350024"
        ],
        [
         "42",
         "result_42",
         "../1_diffusion/output/result_42.pdb",
         "LLLLLHHHHHHHHHHHHHHHHHLLLLLHHHHHHHHHHHHHHHHHLLLLHHHHHHHHHHHHLLLHHHHHHHHHHHHHHHHHHHLLLHHHHHHHHHHHHHHHHHHHHHHHHHLLLLL",
         "64.05786706523745"
        ],
        [
         "43",
         "result_43",
         "../1_diffusion/output/result_43.pdb",
         "LLHHHHHHHHHHHLLHHHHHHHHHHHHLLLHHHHHHHHHHHHLHHHHHHHLHHHLLHHHHHHHHHHHHHHHHHLLLLHHHHHHHHHHHHLLLLLHHHHHHHHHHHHHHHHHHHHHLLL",
         "57.08691806025468"
        ],
        [
         "44",
         "result_44",
         "../1_diffusion/output/result_44.pdb",
         "LHHHHHHHHHHHHHHHHLLLLLLLHHHHHHHHHHHHHLHHHHHHHHHHHHHHHLHHHHHHHHHLLLHHHHHHHHHHHHHHHHLLLHHHHHHHHHHHHHHHLLLL",
         "59.59271937746063"
        ],
        [
         "45",
         "result_45",
         "../1_diffusion/output/result_45.pdb",
         "LHHHHHHHHHHHHHHHLLHHHHHHHHHHLHHHHHHHHHHHHHLLLLLLLLHHHHHHHHHHHHHHHHHLLLHHHHHHHHHHHHHHHHHHLLLLLLHHHHHHHHHHHHHHHHHHHHHLLHHHHHHHLLL",
         "54.96233322619341"
        ],
        [
         "46",
         "result_46",
         "../1_diffusion/output/result_46.pdb",
         "LLLLLLLLHHHHHHHHHHHHHHLLLLEEELLLHHHHLLLLLLEEEEEEEELLLLLLLLEEEEEEELLLLLLHHHHHHHHHHHHHHLLLLLLHHHHHHHHLHHHLLLEEEEELLLLLLLLEEEEEEELLL",
         "57.06080503352608"
        ],
        [
         "47",
         "result_47",
         "../1_diffusion/output/result_47.pdb",
         "LHHHHHHHHHHHHHHHHHHHHHLLLLHHHHHHHHHHHHHHHHHLLHHHHHHHHHHHHHHHHHHHHLHHHHHHHHHHHHHHHHLLLLLLLLHHHHHHHHHHHHHHEELLEELLL",
         "54.251801347194885"
        ],
        [
         "48",
         "result_48",
         "../1_diffusion/output/result_48.pdb",
         "LHHHHHHHHHHHHHHHHHHHHHHHLLLHHHHHHHHHHHHHHHHHHHHHHHHHLLLLHHHHHHHHHHHHHLLHHHHHHHHHLLLHHHHHHHHHHHHHHHLLLLHHHHLLLLL",
         "60.30580719195989"
        ],
        [
         "49",
         "result_49",
         "../1_diffusion/output/result_49.pdb",
         "LHHHHHHHHHHHHHHHHLLLHHHHHLLLLLLLLLHHHHHHHHHHHHHHHHLLLLLHHHHHHHHHHHHHLLLLLHHHHHHHHHHHHHHLLLHHHHHHHHHLHHHLLLLHHHHHHHHHHHHHHHHLL",
         "56.83335534648745"
        ]
       ],
       "shape": {
        "columns": 4,
        "rows": 64
       }
      },
      "text/html": [
       "<div>\n",
       "<style scoped>\n",
       "    .dataframe tbody tr th:only-of-type {\n",
       "        vertical-align: middle;\n",
       "    }\n",
       "\n",
       "    .dataframe tbody tr th {\n",
       "        vertical-align: top;\n",
       "    }\n",
       "\n",
       "    .dataframe thead th {\n",
       "        text-align: right;\n",
       "    }\n",
       "</style>\n",
       "<table border=\"1\" class=\"dataframe\">\n",
       "  <thead>\n",
       "    <tr style=\"text-align: right;\">\n",
       "      <th></th>\n",
       "      <th>id</th>\n",
       "      <th>path</th>\n",
       "      <th>dssp</th>\n",
       "      <th>sasa</th>\n",
       "    </tr>\n",
       "  </thead>\n",
       "  <tbody>\n",
       "    <tr>\n",
       "      <th>0</th>\n",
       "      <td>result_0</td>\n",
       "      <td>../1_diffusion/output/result_0.pdb</td>\n",
       "      <td>LLLEEEEEEELLLLLEEEEEEEELLLEEEEEEEEELLLLLLLLEEE...</td>\n",
       "      <td>59.198082</td>\n",
       "    </tr>\n",
       "    <tr>\n",
       "      <th>1</th>\n",
       "      <td>result_1</td>\n",
       "      <td>../1_diffusion/output/result_1.pdb</td>\n",
       "      <td>LEEEEEELHHHHHHHHHHHHHHLLLLLHHHLLHHHHHHHHHHHHHH...</td>\n",
       "      <td>53.125778</td>\n",
       "    </tr>\n",
       "    <tr>\n",
       "      <th>2</th>\n",
       "      <td>result_2</td>\n",
       "      <td>../1_diffusion/output/result_2.pdb</td>\n",
       "      <td>LLLHHHHHHHHHHHHHHLLLHHHHHHHHHHHHHHLHHHHHHHHHHH...</td>\n",
       "      <td>52.062193</td>\n",
       "    </tr>\n",
       "    <tr>\n",
       "      <th>3</th>\n",
       "      <td>result_3</td>\n",
       "      <td>../1_diffusion/output/result_3.pdb</td>\n",
       "      <td>LHHHHHHHHHHHHHLLLLHHHHHHHHHHHHHHHHHHHHHHHHHLLL...</td>\n",
       "      <td>53.220458</td>\n",
       "    </tr>\n",
       "    <tr>\n",
       "      <th>4</th>\n",
       "      <td>result_4</td>\n",
       "      <td>../1_diffusion/output/result_4.pdb</td>\n",
       "      <td>LLLHHHHHHHLHHHHHHLLHHHHHHHHLLLLLLLHHHHHHHHHHHL...</td>\n",
       "      <td>57.706940</td>\n",
       "    </tr>\n",
       "    <tr>\n",
       "      <th>...</th>\n",
       "      <td>...</td>\n",
       "      <td>...</td>\n",
       "      <td>...</td>\n",
       "      <td>...</td>\n",
       "    </tr>\n",
       "    <tr>\n",
       "      <th>59</th>\n",
       "      <td>result_59</td>\n",
       "      <td>../1_diffusion/output/result_59.pdb</td>\n",
       "      <td>LHHHHHHHHHHLLHHHHHHHHHLHHHHHHHHHHHHHHHHHHHLHHH...</td>\n",
       "      <td>59.218767</td>\n",
       "    </tr>\n",
       "    <tr>\n",
       "      <th>60</th>\n",
       "      <td>result_60</td>\n",
       "      <td>../1_diffusion/output/result_60.pdb</td>\n",
       "      <td>LEEEEELLHHHHHHHHHHHHHHLLLLEEEEEELLLLHHHHHHHHHH...</td>\n",
       "      <td>54.272218</td>\n",
       "    </tr>\n",
       "    <tr>\n",
       "      <th>61</th>\n",
       "      <td>result_61</td>\n",
       "      <td>../1_diffusion/output/result_61.pdb</td>\n",
       "      <td>LHHHHHHHHHHHHHHLHHHHHLLLLHHHHHHHHHHHHHLLHHHHHH...</td>\n",
       "      <td>68.587040</td>\n",
       "    </tr>\n",
       "    <tr>\n",
       "      <th>62</th>\n",
       "      <td>result_62</td>\n",
       "      <td>../1_diffusion/output/result_62.pdb</td>\n",
       "      <td>LEEEEEEEELLLHHHHHHHHHHHLEEEEEEEELLLLHHHHHHHHHH...</td>\n",
       "      <td>54.442697</td>\n",
       "    </tr>\n",
       "    <tr>\n",
       "      <th>63</th>\n",
       "      <td>result_63</td>\n",
       "      <td>../1_diffusion/output/result_63.pdb</td>\n",
       "      <td>LLLHHHHHHHHHLLLLLEEEEEEEEELLEEEEEEEELLLLEEEEHH...</td>\n",
       "      <td>51.392784</td>\n",
       "    </tr>\n",
       "  </tbody>\n",
       "</table>\n",
       "<p>64 rows × 4 columns</p>\n",
       "</div>"
      ],
      "text/plain": [
       "           id                                 path  \\\n",
       "0    result_0   ../1_diffusion/output/result_0.pdb   \n",
       "1    result_1   ../1_diffusion/output/result_1.pdb   \n",
       "2    result_2   ../1_diffusion/output/result_2.pdb   \n",
       "3    result_3   ../1_diffusion/output/result_3.pdb   \n",
       "4    result_4   ../1_diffusion/output/result_4.pdb   \n",
       "..        ...                                  ...   \n",
       "59  result_59  ../1_diffusion/output/result_59.pdb   \n",
       "60  result_60  ../1_diffusion/output/result_60.pdb   \n",
       "61  result_61  ../1_diffusion/output/result_61.pdb   \n",
       "62  result_62  ../1_diffusion/output/result_62.pdb   \n",
       "63  result_63  ../1_diffusion/output/result_63.pdb   \n",
       "\n",
       "                                                 dssp       sasa  \n",
       "0   LLLEEEEEEELLLLLEEEEEEEELLLEEEEEEEEELLLLLLLLEEE...  59.198082  \n",
       "1   LEEEEEELHHHHHHHHHHHHHHLLLLLHHHLLHHHHHHHHHHHHHH...  53.125778  \n",
       "2   LLLHHHHHHHHHHHHHHLLLHHHHHHHHHHHHHHLHHHHHHHHHHH...  52.062193  \n",
       "3   LHHHHHHHHHHHHHLLLLHHHHHHHHHHHHHHHHHHHHHHHHHLLL...  53.220458  \n",
       "4   LLLHHHHHHHLHHHHHHLLHHHHHHHHLLLLLLLHHHHHHHHHHHL...  57.706940  \n",
       "..                                                ...        ...  \n",
       "59  LHHHHHHHHHHLLHHHHHHHHHLHHHHHHHHHHHHHHHHHHHLHHH...  59.218767  \n",
       "60  LEEEEELLHHHHHHHHHHHHHHLLLLEEEEEELLLLHHHHHHHHHH...  54.272218  \n",
       "61  LHHHHHHHHHHHHHHLHHHHHLLLLHHHHHHHHHHHHHLLHHHHHH...  68.587040  \n",
       "62  LEEEEEEEELLLHHHHHHHHHHHLEEEEEEEELLLLHHHHHHHHHH...  54.442697  \n",
       "63  LLLHHHHHHHHHLLLLLEEEEEEEEELLEEEEEEEELLLLEEEEHH...  51.392784  \n",
       "\n",
       "[64 rows x 4 columns]"
      ]
     },
     "execution_count": 1,
     "metadata": {},
     "output_type": "execute_result"
    }
   ],
   "source": [
    "import pandas as pd\n",
    "\n",
    "df_diff = pd.read_csv('pdb_list.csv')\n",
    "df_sasa = pd.read_csv('lig_atm_depth.csv')[['id','sum']]\n",
    "df_sasa.rename(columns={'sum': 'sasa'}, inplace=True)\n",
    "df_dssp = pd.read_csv('dssp.csv')\n",
    "# df_dssp['l_count'] = df_dssp['dssp'].apply(lambda x: x.count('L'))\n",
    "# df_dssp['l_ratio'] = df_dssp['l_count'] / df_dssp['dssp'].apply(len)\n",
    "df = pd.merge(df_diff, df_dssp, on='id', how='left')\n",
    "df = pd.merge(df, df_sasa, on='id', how='left')\n",
    "df.to_csv('diffusion.csv', index=False)\n",
    "df"
   ]
  },
  {
   "cell_type": "code",
   "execution_count": 2,
   "id": "3125e0db",
   "metadata": {},
   "outputs": [
    {
     "data": {
      "application/vnd.microsoft.datawrangler.viewer.v0+json": {
       "columns": [
        {
         "name": "index",
         "rawType": "int64",
         "type": "integer"
        },
        {
         "name": "id",
         "rawType": "object",
         "type": "string"
        },
        {
         "name": "path",
         "rawType": "object",
         "type": "string"
        },
        {
         "name": "dssp",
         "rawType": "object",
         "type": "string"
        },
        {
         "name": "sasa",
         "rawType": "float64",
         "type": "float"
        }
       ],
       "ref": "af6347d7-4538-49a2-901f-f76122e48862",
       "rows": [
        [
         "0",
         "result_16",
         "../1_diffusion/output/result_16.pdb",
         "LLLHHHHHHHHHHHHHHHHHHHHHHHHHHHHHLLLLLLLHHHHHHLLHHHHHHLLLLHHHHHHHHHHHHHHHLLLHHHHHHHHHHHHHHHLLLLHHHHHHHHHHHHHHHLL",
         "82.00917876783957"
        ],
        [
         "1",
         "result_24",
         "../1_diffusion/output/result_24.pdb",
         "LLHHHHHHHHHHHHHHHHHHLLLLHHHHHHHHHHHHHHLLLLHHHHHHHHHHHHHHHLHHHHHHHHHHLLLLLHHHLLLLLHHHHHHHHHHLLLLHHHHHHHHHHHHHHHHLL",
         "75.05757228715551"
        ],
        [
         "2",
         "result_58",
         "../1_diffusion/output/result_58.pdb",
         "LHHHHHHHHHHHHHHHHHHHHHHHLLLLEEEEEEEEEEELLEEEEEEEELLLLEEEEEEEELLHHHHHHHHHHHHHLLLLLLHHHHHHHHHHHHHHHHLLL",
         "72.51452170352485"
        ],
        [
         "3",
         "result_51",
         "../1_diffusion/output/result_51.pdb",
         "LHHHHHHHHHHHLLLLLHHHHHHHHHHHHLLLLLLHHHHHHHHHHHHHHLLLLLLLHHHHHHHHHHHHHHHHHHHHHHHLLHHHHHHHHHHHHHHHHHHHHLLLLLLHHHHHHHHHHHHHHHHHHHHHHLL",
         "71.61825773560531"
        ],
        [
         "4",
         "result_61",
         "../1_diffusion/output/result_61.pdb",
         "LHHHHHHHHHHHHHHLHHHHHLLLLHHHHHHHHHHHHHLLHHHHHHHHHHHHHHHHLLHHHHHHHHHHHHLLLLHHHHLLLLHHHHHHHHHHHHHHHHHHLLLLLHHHHHHHHHHLLHHHHHHLLL",
         "68.58704049351009"
        ],
        [
         "5",
         "result_9",
         "../1_diffusion/output/result_9.pdb",
         "LLLLLLLLHHHHHHHHHHLLLLEELLLLELLLLLLHHHHHHHHHHLLHHHHHHHHHHHHHHELLLLLLLEHHHHLLLHHHHHHHHELLLLHHHHHHHHHHHHLLL",
         "67.97178594057578"
        ],
        [
         "6",
         "result_42",
         "../1_diffusion/output/result_42.pdb",
         "LLLLLHHHHHHHHHHHHHHHHHLLLLLHHHHHHHHHHHHHHHHHLLLLHHHHHHHHHHHHLLLHHHHHHHHHHHHHHHHHHHLLLHHHHHHHHHHHHHHHHHHHHHHHHHLLLLL",
         "64.05786706523745"
        ],
        [
         "7",
         "result_11",
         "../1_diffusion/output/result_11.pdb",
         "LHHHHHHHHHHHHHHHHHHHHHHHHLHHHHHHHHHHHHHHHHHHHHHHLLLLHHHHHHHHHHHHHHHHHHHHHHHHHHHHHHHHHHHHHHHHHHHHHLLLL",
         "62.7214766970657"
        ],
        [
         "8",
         "result_13",
         "../1_diffusion/output/result_13.pdb",
         "LLHHHHHHHHHHHHHLLEHHHHHHHHHHHHHLLHHHHHHHHHHHHHHHHHLLLLHHHHHHHHHHHLLLLHHHHHHHHHHHHHHHHHLHHHHHHHHHHHHHHHHHHHHLLLLLELLLL",
         "62.15203298551304"
        ],
        [
         "9",
         "result_54",
         "../1_diffusion/output/result_54.pdb",
         "LHHHHHHHHHHHLLLHHHHHHHHHHHHHLLLHHHHHHHHHHHHHHHLLHHHHHHHHHHHHLLLHHHHHHHHHHHLLLHHHHHHHHHHLLLLLLHHHHHHHHHHHHHHHHHHHLLL",
         "61.3338805048905"
        ],
        [
         "10",
         "result_14",
         "../1_diffusion/output/result_14.pdb",
         "LHHHHHHHHHHHHHLLLHHHHHHHHHHHHHHHLLLHHHHHHHHHHHHHHHHHHHHHHHHHHHHHHHHLLLHHHHHHHHHHHHHHHHHHLHHHHHLLLLLEELLEELLLHHHHHHHHHHHHHLL",
         "60.61768695712352"
        ],
        [
         "11",
         "result_50",
         "../1_diffusion/output/result_50.pdb",
         "LHHHHHHHHHHHHHLLHHHHHHHHLHHHHHHHHHHHHHHHHHHLLLLLLLHHHHHHHHHHHHHHHHHHHHHHLLLHHHHHHHHHHHHLLLLLLHHHLLLHHHHHHHHHLLL",
         "60.58919828140379"
        ],
        [
         "12",
         "result_20",
         "../1_diffusion/output/result_20.pdb",
         "LLHHHHHHHHHHHHHHHHHHHHHHHHHLHHHHHHHHHHHHHHHHHHLLHHHHHHHHHHHHHHHHHLLLLHHHHHHHHHLHHHHHHHLHHHHHHHHHHHHHHHHHHHHHHLL",
         "60.519219998000736"
        ],
        [
         "13",
         "result_48",
         "../1_diffusion/output/result_48.pdb",
         "LHHHHHHHHHHHHHHHHHHHHHHHLLLHHHHHHHHHHHHHHHHHHHHHHHHHLLLLHHHHHHHHHHHHHLLHHHHHHHHHLLLHHHHHHHHHHHHHHHLLLLHHHHLLLLL",
         "60.30580719195989"
        ],
        [
         "14",
         "result_44",
         "../1_diffusion/output/result_44.pdb",
         "LHHHHHHHHHHHHHHHHLLLLLLLHHHHHHHHHHHHHLHHHHHHHHHHHHHHHLHHHHHHHHHLLLHHHHHHHHHHHHHHHHLLLHHHHHHHHHHHHHHHLLLL",
         "59.59271937746063"
        ],
        [
         "15",
         "result_59",
         "../1_diffusion/output/result_59.pdb",
         "LHHHHHHHHHHLLHHHHHHHHHLHHHHHHHHHHHHHHHHHHHLHHHLLHHHHHHHHHHHHHHLLHHHHHHLLLHHHHHHHHHHHHHHHLLHHHHHHHHHHHHHHHHHHHLL",
         "59.21876724593996"
        ],
        [
         "16",
         "result_5",
         "../1_diffusion/output/result_5.pdb",
         "LEEEEEEEEELLLLHHHHLLLLHHHHHHHHHLEEEEEEEELLLLEEEEEEEEELLLHHHHHLLLHHHHHHHHHHHHLHHHHHHHHHHHHHHHHLLLLHHHHHHHHHHHHHLLLLLEEEEEEEEEELLL",
         "58.42611170414001"
        ],
        [
         "17",
         "result_4",
         "../1_diffusion/output/result_4.pdb",
         "LLLHHHHHHHLHHHHHHLLHHHHHHHHLLLLLLLHHHHHHHHHHHLHHHHHHHHHHHHHLLLHHHHHHHHHHHHHHHLLLLLHHHHHHHHHHHHHHHHHHHHHHLL",
         "57.70694019977239"
        ],
        [
         "18",
         "result_43",
         "../1_diffusion/output/result_43.pdb",
         "LLHHHHHHHHHHHLLHHHHHHHHHHHHLLLHHHHHHHHHHHHLHHHHHHHLHHHLLHHHHHHHHHHHHHHHHHLLLLHHHHHHHHHHHHLLLLLHHHHHHHHHHHHHHHHHHHHHLLL",
         "57.08691806025468"
        ],
        [
         "19",
         "result_10",
         "../1_diffusion/output/result_10.pdb",
         "LEEEEEELLLHHHHHHHHHHHHHHLEEEEEELLLHHHHHHHHHHHHHHHHLLLLLLHHHHHHHHHHHHHHHLLLLEEEEEELLLLHHHHHHHHHHLLLLLEEEEELL",
         "56.74273309701034"
        ],
        [
         "20",
         "result_28",
         "../1_diffusion/output/result_28.pdb",
         "LLLLLLLLLLLLEEEELLLLLEEELLHHHHHHHHHHHHHHHHHHHHHHLLLHHHHHHHHHHHHHHHHHHHHHHLLHHHHHHHHHHHHHHHHHHLLLLLLHHHHHHHHLLLLLLHHHHHHHHHHLL",
         "56.596620843073325"
        ],
        [
         "21",
         "result_17",
         "../1_diffusion/output/result_17.pdb",
         "LLLLLLLHHHHHHHHHHHHHHHLLLHHHHHHHHHHHHHHLLLLHHHHHHHHHHHHHLLLHHHHHHHHHHHHHHHHLHHHHHHHHHHHHHHHHHHLLHHHHHHHHHHHHHHLHHHHHHHHHLLLL",
         "56.396391377414496"
        ],
        [
         "22",
         "result_57",
         "../1_diffusion/output/result_57.pdb",
         "LHHHHHHHHHHHHHHHHHHHLLLLLHHHHHHHHHHHHHHHHHHLLLLHHHHHHHHHHHHHHHHHHHHHHHLLHHHHHHHHHHHHHHHHHHHHHHHHHHHHHLLLL",
         "56.20638580524114"
        ],
        [
         "23",
         "result_53",
         "../1_diffusion/output/result_53.pdb",
         "LLLLLLHHHLLLLHHHHHHHHHHHHHHHHHLHHHLLHHHHHHHHHHHHHHHHHHHHLLLLLHHHHHHHHHHHHHHHHHHHHHHHLLHHHHHHHHHHHHHHHHHLLLLLL",
         "55.63538030265748"
        ],
        [
         "24",
         "result_30",
         "../1_diffusion/output/result_30.pdb",
         "LHHHHHHHHHHHHHHHLLLLLLHHHLLLLHHHHHHHHHHLLLLHHHHHHHHHHHHHHHHLHHHHHHHHHHHHHHHLLHHHHHHHHHHLLLLLLLHHHHHHHHLLLLL",
         "55.016909730253445"
        ],
        [
         "25",
         "result_52",
         "../1_diffusion/output/result_52.pdb",
         "LLHHHHHHHHHHHHHHHHHHHHHHHLLHHHHHHHHHHHHHHLHHHHHHHHHHHHHHHHHHHHHHHHHHHHHLLLLHHHHHHHHHHHHHHHHHHHHHHHHHHHHHHHHHHHHHLL",
         "54.9758615218996"
        ],
        [
         "26",
         "result_55",
         "../1_diffusion/output/result_55.pdb",
         "LLLLLHHHHHHHHLLLLLHHHHHHHHHHHHHHHHHHHHLHHHHHHHHHHHHHHHHHHHLLLHHHHHHHHHHHHHLLHHHHHHHHHHHLLLHHHHHHHHHHHHHHLLL",
         "54.72720587014026"
        ],
        [
         "27",
         "result_7",
         "../1_diffusion/output/result_7.pdb",
         "LHHHHHHHHHHLLLLLLLHHHHHHHHHHHHLLLLLLHHHHHHHHHHHHHLLLLLLHHHHHHHHHHHHHHHHHLLLLLHHHHHHHHHLLLHHHHHHHHHHHHHLLLHHHHHHHHHHHHHHHHHHLLL",
         "54.49858026344119"
        ],
        [
         "28",
         "result_62",
         "../1_diffusion/output/result_62.pdb",
         "LEEEEEEEELLLHHHHHHHHHHHLEEEEEEEELLLLHHHHHHHHHHHHHLLLLLLEEEEEELLLLLLHHHHHHHHHHHHHHHHHHHHHLLLLEEEEEELLLHHHHHHHHHHHHHHLL",
         "54.44269708492249"
        ],
        [
         "29",
         "result_56",
         "../1_diffusion/output/result_56.pdb",
         "LHHHHHHHHHHHHLLLHHHHHHHHHHHHHHHHHHHHHHHHHHHHHHLLLLHHHHHHHHHHHHLLHHHHHHHHHHHLLLLLHHHHHHHHHHHHHHHHHHHHHHHHHHHHHHHHHHLLLL",
         "54.23397407957062"
        ],
        [
         "30",
         "result_15",
         "../1_diffusion/output/result_15.pdb",
         "LLHHHHHHHHHHHHHHHHHHHHHHHHLLLHHHHHHHHHHHHHHLHHHHHHHHLLLLHHHHHHHHHHHLLLLLLHHHHHHHHHLHHHHHHHHHHHHHHHHLLLLLHHHHHHHHHHHHHHHHHHLL",
         "53.9801747078002"
        ],
        [
         "31",
         "result_29",
         "../1_diffusion/output/result_29.pdb",
         "LHHHHHHHHHHHHHHHHHLLLLLLLHHHHHHHHLLLLHHHHHHLLLLHHHHHHHHHHLHHHHHHHHHHHHLLLLHHHHHHHHHHHHHHLLHHHHHHHHHHHHHHLL",
         "53.940271551273376"
        ],
        [
         "32",
         "result_25",
         "../1_diffusion/output/result_25.pdb",
         "LLLLLHHHHHHHHHHLLHHHHHHHHHHHHLLLLHHHHHHHHHHHHHHHHHHLLHHHHHHHLLLLLLHHHHHHHHHHHHHHHHLLLLHHHHHHHHHHHLLHHHHHHHHHHHHHHLL",
         "53.66064220903051"
        ],
        [
         "33",
         "result_3",
         "../1_diffusion/output/result_3.pdb",
         "LHHHHHHHHHHHHHLLLLHHHHHHHHHHHHHHHHHHHHHHHHHLLLHHHHHHHHHHHHHHHHHLLLLLLHHHHHHHLLLLLHHHHHHHHHHHHHHHLHHHHHHHHHLLLLLHHHHHHHHHHHHHHLL",
         "53.22045817928765"
        ],
        [
         "34",
         "result_26",
         "../1_diffusion/output/result_26.pdb",
         "LHHHHHHHHHHHHHHHHHHHLLLLLHHHHHHHLLLELLELLHHHHHHHHHHHLLLLLHHHHHHHHHHHHHHHHLLHHHHHHHHHHHHHHHLLLLLHHHHHHHHHHLL",
         "52.45041675304503"
        ],
        [
         "35",
         "result_2",
         "../1_diffusion/output/result_2.pdb",
         "LLLHHHHHHHHHHHHHHLLLHHHHHHHHHHHHHHLHHHHHHHHHHHHHHHLLLLLHHHHHHHHHHHHHHHHLLLHHHHHHHHHHHHLLLLLLHHHHHHHHHHHHHLLL",
         "52.0621925043061"
        ]
       ],
       "shape": {
        "columns": 4,
        "rows": 36
       }
      },
      "text/html": [
       "<div>\n",
       "<style scoped>\n",
       "    .dataframe tbody tr th:only-of-type {\n",
       "        vertical-align: middle;\n",
       "    }\n",
       "\n",
       "    .dataframe tbody tr th {\n",
       "        vertical-align: top;\n",
       "    }\n",
       "\n",
       "    .dataframe thead th {\n",
       "        text-align: right;\n",
       "    }\n",
       "</style>\n",
       "<table border=\"1\" class=\"dataframe\">\n",
       "  <thead>\n",
       "    <tr style=\"text-align: right;\">\n",
       "      <th></th>\n",
       "      <th>id</th>\n",
       "      <th>path</th>\n",
       "      <th>dssp</th>\n",
       "      <th>sasa</th>\n",
       "    </tr>\n",
       "  </thead>\n",
       "  <tbody>\n",
       "    <tr>\n",
       "      <th>0</th>\n",
       "      <td>result_16</td>\n",
       "      <td>../1_diffusion/output/result_16.pdb</td>\n",
       "      <td>LLLHHHHHHHHHHHHHHHHHHHHHHHHHHHHHLLLLLLLHHHHHHL...</td>\n",
       "      <td>82.009179</td>\n",
       "    </tr>\n",
       "    <tr>\n",
       "      <th>1</th>\n",
       "      <td>result_24</td>\n",
       "      <td>../1_diffusion/output/result_24.pdb</td>\n",
       "      <td>LLHHHHHHHHHHHHHHHHHHLLLLHHHHHHHHHHHHHHLLLLHHHH...</td>\n",
       "      <td>75.057572</td>\n",
       "    </tr>\n",
       "    <tr>\n",
       "      <th>2</th>\n",
       "      <td>result_58</td>\n",
       "      <td>../1_diffusion/output/result_58.pdb</td>\n",
       "      <td>LHHHHHHHHHHHHHHHHHHHHHHHLLLLEEEEEEEEEEELLEEEEE...</td>\n",
       "      <td>72.514522</td>\n",
       "    </tr>\n",
       "    <tr>\n",
       "      <th>3</th>\n",
       "      <td>result_51</td>\n",
       "      <td>../1_diffusion/output/result_51.pdb</td>\n",
       "      <td>LHHHHHHHHHHHLLLLLHHHHHHHHHHHHLLLLLLHHHHHHHHHHH...</td>\n",
       "      <td>71.618258</td>\n",
       "    </tr>\n",
       "    <tr>\n",
       "      <th>4</th>\n",
       "      <td>result_61</td>\n",
       "      <td>../1_diffusion/output/result_61.pdb</td>\n",
       "      <td>LHHHHHHHHHHHHHHLHHHHHLLLLHHHHHHHHHHHHHLLHHHHHH...</td>\n",
       "      <td>68.587040</td>\n",
       "    </tr>\n",
       "    <tr>\n",
       "      <th>5</th>\n",
       "      <td>result_9</td>\n",
       "      <td>../1_diffusion/output/result_9.pdb</td>\n",
       "      <td>LLLLLLLLHHHHHHHHHHLLLLEELLLLELLLLLLHHHHHHHHHHL...</td>\n",
       "      <td>67.971786</td>\n",
       "    </tr>\n",
       "    <tr>\n",
       "      <th>6</th>\n",
       "      <td>result_42</td>\n",
       "      <td>../1_diffusion/output/result_42.pdb</td>\n",
       "      <td>LLLLLHHHHHHHHHHHHHHHHHLLLLLHHHHHHHHHHHHHHHHHLL...</td>\n",
       "      <td>64.057867</td>\n",
       "    </tr>\n",
       "    <tr>\n",
       "      <th>7</th>\n",
       "      <td>result_11</td>\n",
       "      <td>../1_diffusion/output/result_11.pdb</td>\n",
       "      <td>LHHHHHHHHHHHHHHHHHHHHHHHHLHHHHHHHHHHHHHHHHHHHH...</td>\n",
       "      <td>62.721477</td>\n",
       "    </tr>\n",
       "    <tr>\n",
       "      <th>8</th>\n",
       "      <td>result_13</td>\n",
       "      <td>../1_diffusion/output/result_13.pdb</td>\n",
       "      <td>LLHHHHHHHHHHHHHLLEHHHHHHHHHHHHHLLHHHHHHHHHHHHH...</td>\n",
       "      <td>62.152033</td>\n",
       "    </tr>\n",
       "    <tr>\n",
       "      <th>9</th>\n",
       "      <td>result_54</td>\n",
       "      <td>../1_diffusion/output/result_54.pdb</td>\n",
       "      <td>LHHHHHHHHHHHLLLHHHHHHHHHHHHHLLLHHHHHHHHHHHHHHH...</td>\n",
       "      <td>61.333881</td>\n",
       "    </tr>\n",
       "    <tr>\n",
       "      <th>10</th>\n",
       "      <td>result_14</td>\n",
       "      <td>../1_diffusion/output/result_14.pdb</td>\n",
       "      <td>LHHHHHHHHHHHHHLLLHHHHHHHHHHHHHHHLLLHHHHHHHHHHH...</td>\n",
       "      <td>60.617687</td>\n",
       "    </tr>\n",
       "    <tr>\n",
       "      <th>11</th>\n",
       "      <td>result_50</td>\n",
       "      <td>../1_diffusion/output/result_50.pdb</td>\n",
       "      <td>LHHHHHHHHHHHHHLLHHHHHHHHLHHHHHHHHHHHHHHHHHHLLL...</td>\n",
       "      <td>60.589198</td>\n",
       "    </tr>\n",
       "    <tr>\n",
       "      <th>12</th>\n",
       "      <td>result_20</td>\n",
       "      <td>../1_diffusion/output/result_20.pdb</td>\n",
       "      <td>LLHHHHHHHHHHHHHHHHHHHHHHHHHLHHHHHHHHHHHHHHHHHH...</td>\n",
       "      <td>60.519220</td>\n",
       "    </tr>\n",
       "    <tr>\n",
       "      <th>13</th>\n",
       "      <td>result_48</td>\n",
       "      <td>../1_diffusion/output/result_48.pdb</td>\n",
       "      <td>LHHHHHHHHHHHHHHHHHHHHHHHLLLHHHHHHHHHHHHHHHHHHH...</td>\n",
       "      <td>60.305807</td>\n",
       "    </tr>\n",
       "    <tr>\n",
       "      <th>14</th>\n",
       "      <td>result_44</td>\n",
       "      <td>../1_diffusion/output/result_44.pdb</td>\n",
       "      <td>LHHHHHHHHHHHHHHHHLLLLLLLHHHHHHHHHHHHHLHHHHHHHH...</td>\n",
       "      <td>59.592719</td>\n",
       "    </tr>\n",
       "    <tr>\n",
       "      <th>15</th>\n",
       "      <td>result_59</td>\n",
       "      <td>../1_diffusion/output/result_59.pdb</td>\n",
       "      <td>LHHHHHHHHHHLLHHHHHHHHHLHHHHHHHHHHHHHHHHHHHLHHH...</td>\n",
       "      <td>59.218767</td>\n",
       "    </tr>\n",
       "    <tr>\n",
       "      <th>16</th>\n",
       "      <td>result_5</td>\n",
       "      <td>../1_diffusion/output/result_5.pdb</td>\n",
       "      <td>LEEEEEEEEELLLLHHHHLLLLHHHHHHHHHLEEEEEEEELLLLEE...</td>\n",
       "      <td>58.426112</td>\n",
       "    </tr>\n",
       "    <tr>\n",
       "      <th>17</th>\n",
       "      <td>result_4</td>\n",
       "      <td>../1_diffusion/output/result_4.pdb</td>\n",
       "      <td>LLLHHHHHHHLHHHHHHLLHHHHHHHHLLLLLLLHHHHHHHHHHHL...</td>\n",
       "      <td>57.706940</td>\n",
       "    </tr>\n",
       "    <tr>\n",
       "      <th>18</th>\n",
       "      <td>result_43</td>\n",
       "      <td>../1_diffusion/output/result_43.pdb</td>\n",
       "      <td>LLHHHHHHHHHHHLLHHHHHHHHHHHHLLLHHHHHHHHHHHHLHHH...</td>\n",
       "      <td>57.086918</td>\n",
       "    </tr>\n",
       "    <tr>\n",
       "      <th>19</th>\n",
       "      <td>result_10</td>\n",
       "      <td>../1_diffusion/output/result_10.pdb</td>\n",
       "      <td>LEEEEEELLLHHHHHHHHHHHHHHLEEEEEELLLHHHHHHHHHHHH...</td>\n",
       "      <td>56.742733</td>\n",
       "    </tr>\n",
       "    <tr>\n",
       "      <th>20</th>\n",
       "      <td>result_28</td>\n",
       "      <td>../1_diffusion/output/result_28.pdb</td>\n",
       "      <td>LLLLLLLLLLLLEEEELLLLLEEELLHHHHHHHHHHHHHHHHHHHH...</td>\n",
       "      <td>56.596621</td>\n",
       "    </tr>\n",
       "    <tr>\n",
       "      <th>21</th>\n",
       "      <td>result_17</td>\n",
       "      <td>../1_diffusion/output/result_17.pdb</td>\n",
       "      <td>LLLLLLLHHHHHHHHHHHHHHHLLLHHHHHHHHHHHHHHLLLLHHH...</td>\n",
       "      <td>56.396391</td>\n",
       "    </tr>\n",
       "    <tr>\n",
       "      <th>22</th>\n",
       "      <td>result_57</td>\n",
       "      <td>../1_diffusion/output/result_57.pdb</td>\n",
       "      <td>LHHHHHHHHHHHHHHHHHHHLLLLLHHHHHHHHHHHHHHHHHHLLL...</td>\n",
       "      <td>56.206386</td>\n",
       "    </tr>\n",
       "    <tr>\n",
       "      <th>23</th>\n",
       "      <td>result_53</td>\n",
       "      <td>../1_diffusion/output/result_53.pdb</td>\n",
       "      <td>LLLLLLHHHLLLLHHHHHHHHHHHHHHHHHLHHHLLHHHHHHHHHH...</td>\n",
       "      <td>55.635380</td>\n",
       "    </tr>\n",
       "    <tr>\n",
       "      <th>24</th>\n",
       "      <td>result_30</td>\n",
       "      <td>../1_diffusion/output/result_30.pdb</td>\n",
       "      <td>LHHHHHHHHHHHHHHHLLLLLLHHHLLLLHHHHHHHHHHLLLLHHH...</td>\n",
       "      <td>55.016910</td>\n",
       "    </tr>\n",
       "    <tr>\n",
       "      <th>25</th>\n",
       "      <td>result_52</td>\n",
       "      <td>../1_diffusion/output/result_52.pdb</td>\n",
       "      <td>LLHHHHHHHHHHHHHHHHHHHHHHHLLHHHHHHHHHHHHHHLHHHH...</td>\n",
       "      <td>54.975862</td>\n",
       "    </tr>\n",
       "    <tr>\n",
       "      <th>26</th>\n",
       "      <td>result_55</td>\n",
       "      <td>../1_diffusion/output/result_55.pdb</td>\n",
       "      <td>LLLLLHHHHHHHHLLLLLHHHHHHHHHHHHHHHHHHHHLHHHHHHH...</td>\n",
       "      <td>54.727206</td>\n",
       "    </tr>\n",
       "    <tr>\n",
       "      <th>27</th>\n",
       "      <td>result_7</td>\n",
       "      <td>../1_diffusion/output/result_7.pdb</td>\n",
       "      <td>LHHHHHHHHHHLLLLLLLHHHHHHHHHHHHLLLLLLHHHHHHHHHH...</td>\n",
       "      <td>54.498580</td>\n",
       "    </tr>\n",
       "    <tr>\n",
       "      <th>28</th>\n",
       "      <td>result_62</td>\n",
       "      <td>../1_diffusion/output/result_62.pdb</td>\n",
       "      <td>LEEEEEEEELLLHHHHHHHHHHHLEEEEEEEELLLLHHHHHHHHHH...</td>\n",
       "      <td>54.442697</td>\n",
       "    </tr>\n",
       "    <tr>\n",
       "      <th>29</th>\n",
       "      <td>result_56</td>\n",
       "      <td>../1_diffusion/output/result_56.pdb</td>\n",
       "      <td>LHHHHHHHHHHHHLLLHHHHHHHHHHHHHHHHHHHHHHHHHHHHHH...</td>\n",
       "      <td>54.233974</td>\n",
       "    </tr>\n",
       "    <tr>\n",
       "      <th>30</th>\n",
       "      <td>result_15</td>\n",
       "      <td>../1_diffusion/output/result_15.pdb</td>\n",
       "      <td>LLHHHHHHHHHHHHHHHHHHHHHHHHLLLHHHHHHHHHHHHHHLHH...</td>\n",
       "      <td>53.980175</td>\n",
       "    </tr>\n",
       "    <tr>\n",
       "      <th>31</th>\n",
       "      <td>result_29</td>\n",
       "      <td>../1_diffusion/output/result_29.pdb</td>\n",
       "      <td>LHHHHHHHHHHHHHHHHHLLLLLLLHHHHHHHHLLLLHHHHHHLLL...</td>\n",
       "      <td>53.940272</td>\n",
       "    </tr>\n",
       "    <tr>\n",
       "      <th>32</th>\n",
       "      <td>result_25</td>\n",
       "      <td>../1_diffusion/output/result_25.pdb</td>\n",
       "      <td>LLLLLHHHHHHHHHHLLHHHHHHHHHHHHLLLLHHHHHHHHHHHHH...</td>\n",
       "      <td>53.660642</td>\n",
       "    </tr>\n",
       "    <tr>\n",
       "      <th>33</th>\n",
       "      <td>result_3</td>\n",
       "      <td>../1_diffusion/output/result_3.pdb</td>\n",
       "      <td>LHHHHHHHHHHHHHLLLLHHHHHHHHHHHHHHHHHHHHHHHHHLLL...</td>\n",
       "      <td>53.220458</td>\n",
       "    </tr>\n",
       "    <tr>\n",
       "      <th>34</th>\n",
       "      <td>result_26</td>\n",
       "      <td>../1_diffusion/output/result_26.pdb</td>\n",
       "      <td>LHHHHHHHHHHHHHHHHHHHLLLLLHHHHHHHLLLELLELLHHHHH...</td>\n",
       "      <td>52.450417</td>\n",
       "    </tr>\n",
       "    <tr>\n",
       "      <th>35</th>\n",
       "      <td>result_2</td>\n",
       "      <td>../1_diffusion/output/result_2.pdb</td>\n",
       "      <td>LLLHHHHHHHHHHHHHHLLLHHHHHHHHHHHHHHLHHHHHHHHHHH...</td>\n",
       "      <td>52.062193</td>\n",
       "    </tr>\n",
       "  </tbody>\n",
       "</table>\n",
       "</div>"
      ],
      "text/plain": [
       "           id                                 path  \\\n",
       "0   result_16  ../1_diffusion/output/result_16.pdb   \n",
       "1   result_24  ../1_diffusion/output/result_24.pdb   \n",
       "2   result_58  ../1_diffusion/output/result_58.pdb   \n",
       "3   result_51  ../1_diffusion/output/result_51.pdb   \n",
       "4   result_61  ../1_diffusion/output/result_61.pdb   \n",
       "5    result_9   ../1_diffusion/output/result_9.pdb   \n",
       "6   result_42  ../1_diffusion/output/result_42.pdb   \n",
       "7   result_11  ../1_diffusion/output/result_11.pdb   \n",
       "8   result_13  ../1_diffusion/output/result_13.pdb   \n",
       "9   result_54  ../1_diffusion/output/result_54.pdb   \n",
       "10  result_14  ../1_diffusion/output/result_14.pdb   \n",
       "11  result_50  ../1_diffusion/output/result_50.pdb   \n",
       "12  result_20  ../1_diffusion/output/result_20.pdb   \n",
       "13  result_48  ../1_diffusion/output/result_48.pdb   \n",
       "14  result_44  ../1_diffusion/output/result_44.pdb   \n",
       "15  result_59  ../1_diffusion/output/result_59.pdb   \n",
       "16   result_5   ../1_diffusion/output/result_5.pdb   \n",
       "17   result_4   ../1_diffusion/output/result_4.pdb   \n",
       "18  result_43  ../1_diffusion/output/result_43.pdb   \n",
       "19  result_10  ../1_diffusion/output/result_10.pdb   \n",
       "20  result_28  ../1_diffusion/output/result_28.pdb   \n",
       "21  result_17  ../1_diffusion/output/result_17.pdb   \n",
       "22  result_57  ../1_diffusion/output/result_57.pdb   \n",
       "23  result_53  ../1_diffusion/output/result_53.pdb   \n",
       "24  result_30  ../1_diffusion/output/result_30.pdb   \n",
       "25  result_52  ../1_diffusion/output/result_52.pdb   \n",
       "26  result_55  ../1_diffusion/output/result_55.pdb   \n",
       "27   result_7   ../1_diffusion/output/result_7.pdb   \n",
       "28  result_62  ../1_diffusion/output/result_62.pdb   \n",
       "29  result_56  ../1_diffusion/output/result_56.pdb   \n",
       "30  result_15  ../1_diffusion/output/result_15.pdb   \n",
       "31  result_29  ../1_diffusion/output/result_29.pdb   \n",
       "32  result_25  ../1_diffusion/output/result_25.pdb   \n",
       "33   result_3   ../1_diffusion/output/result_3.pdb   \n",
       "34  result_26  ../1_diffusion/output/result_26.pdb   \n",
       "35   result_2   ../1_diffusion/output/result_2.pdb   \n",
       "\n",
       "                                                 dssp       sasa  \n",
       "0   LLLHHHHHHHHHHHHHHHHHHHHHHHHHHHHHLLLLLLLHHHHHHL...  82.009179  \n",
       "1   LLHHHHHHHHHHHHHHHHHHLLLLHHHHHHHHHHHHHHLLLLHHHH...  75.057572  \n",
       "2   LHHHHHHHHHHHHHHHHHHHHHHHLLLLEEEEEEEEEEELLEEEEE...  72.514522  \n",
       "3   LHHHHHHHHHHHLLLLLHHHHHHHHHHHHLLLLLLHHHHHHHHHHH...  71.618258  \n",
       "4   LHHHHHHHHHHHHHHLHHHHHLLLLHHHHHHHHHHHHHLLHHHHHH...  68.587040  \n",
       "5   LLLLLLLLHHHHHHHHHHLLLLEELLLLELLLLLLHHHHHHHHHHL...  67.971786  \n",
       "6   LLLLLHHHHHHHHHHHHHHHHHLLLLLHHHHHHHHHHHHHHHHHLL...  64.057867  \n",
       "7   LHHHHHHHHHHHHHHHHHHHHHHHHLHHHHHHHHHHHHHHHHHHHH...  62.721477  \n",
       "8   LLHHHHHHHHHHHHHLLEHHHHHHHHHHHHHLLHHHHHHHHHHHHH...  62.152033  \n",
       "9   LHHHHHHHHHHHLLLHHHHHHHHHHHHHLLLHHHHHHHHHHHHHHH...  61.333881  \n",
       "10  LHHHHHHHHHHHHHLLLHHHHHHHHHHHHHHHLLLHHHHHHHHHHH...  60.617687  \n",
       "11  LHHHHHHHHHHHHHLLHHHHHHHHLHHHHHHHHHHHHHHHHHHLLL...  60.589198  \n",
       "12  LLHHHHHHHHHHHHHHHHHHHHHHHHHLHHHHHHHHHHHHHHHHHH...  60.519220  \n",
       "13  LHHHHHHHHHHHHHHHHHHHHHHHLLLHHHHHHHHHHHHHHHHHHH...  60.305807  \n",
       "14  LHHHHHHHHHHHHHHHHLLLLLLLHHHHHHHHHHHHHLHHHHHHHH...  59.592719  \n",
       "15  LHHHHHHHHHHLLHHHHHHHHHLHHHHHHHHHHHHHHHHHHHLHHH...  59.218767  \n",
       "16  LEEEEEEEEELLLLHHHHLLLLHHHHHHHHHLEEEEEEEELLLLEE...  58.426112  \n",
       "17  LLLHHHHHHHLHHHHHHLLHHHHHHHHLLLLLLLHHHHHHHHHHHL...  57.706940  \n",
       "18  LLHHHHHHHHHHHLLHHHHHHHHHHHHLLLHHHHHHHHHHHHLHHH...  57.086918  \n",
       "19  LEEEEEELLLHHHHHHHHHHHHHHLEEEEEELLLHHHHHHHHHHHH...  56.742733  \n",
       "20  LLLLLLLLLLLLEEEELLLLLEEELLHHHHHHHHHHHHHHHHHHHH...  56.596621  \n",
       "21  LLLLLLLHHHHHHHHHHHHHHHLLLHHHHHHHHHHHHHHLLLLHHH...  56.396391  \n",
       "22  LHHHHHHHHHHHHHHHHHHHLLLLLHHHHHHHHHHHHHHHHHHLLL...  56.206386  \n",
       "23  LLLLLLHHHLLLLHHHHHHHHHHHHHHHHHLHHHLLHHHHHHHHHH...  55.635380  \n",
       "24  LHHHHHHHHHHHHHHHLLLLLLHHHLLLLHHHHHHHHHHLLLLHHH...  55.016910  \n",
       "25  LLHHHHHHHHHHHHHHHHHHHHHHHLLHHHHHHHHHHHHHHLHHHH...  54.975862  \n",
       "26  LLLLLHHHHHHHHLLLLLHHHHHHHHHHHHHHHHHHHHLHHHHHHH...  54.727206  \n",
       "27  LHHHHHHHHHHLLLLLLLHHHHHHHHHHHHLLLLLLHHHHHHHHHH...  54.498580  \n",
       "28  LEEEEEEEELLLHHHHHHHHHHHLEEEEEEEELLLLHHHHHHHHHH...  54.442697  \n",
       "29  LHHHHHHHHHHHHLLLHHHHHHHHHHHHHHHHHHHHHHHHHHHHHH...  54.233974  \n",
       "30  LLHHHHHHHHHHHHHHHHHHHHHHHHLLLHHHHHHHHHHHHHHLHH...  53.980175  \n",
       "31  LHHHHHHHHHHHHHHHHHLLLLLLLHHHHHHHHLLLLHHHHHHLLL...  53.940272  \n",
       "32  LLLLLHHHHHHHHHHLLHHHHHHHHHHHHLLLLHHHHHHHHHHHHH...  53.660642  \n",
       "33  LHHHHHHHHHHHHHLLLLHHHHHHHHHHHHHHHHHHHHHHHHHLLL...  53.220458  \n",
       "34  LHHHHHHHHHHHHHHHHHHHLLLLLHHHHHHHLLLELLELLHHHHH...  52.450417  \n",
       "35  LLLHHHHHHHHHHHHHHLLLHHHHHHHHHHHHHHLHHHHHHHHHHH...  52.062193  "
      ]
     },
     "execution_count": 2,
     "metadata": {},
     "output_type": "execute_result"
    }
   ],
   "source": [
    "import re\n",
    "\n",
    "def has_invalid_L_sequence(text):\n",
    "    N=8\n",
    "    stripped_text = text\n",
    "    while stripped_text.startswith('L'):\n",
    "        stripped_text = stripped_text[1:]\n",
    "    while stripped_text.endswith('L'):\n",
    "        stripped_text = stripped_text[:-1]\n",
    "    return bool(re.search(r'L{%d,}' % N, stripped_text))\n",
    "\n",
    "df_filt = df[~df['dssp'].apply(has_invalid_L_sequence)]\n",
    "df_filt = df_filt.sort_values(by='sasa', ascending=False).reset_index(drop=True)\n",
    "df_filt.to_csv('diffusion_filtered.csv', index=False)\n",
    "df_filt"
   ]
  },
  {
   "cell_type": "code",
   "execution_count": 3,
   "id": "5115de19",
   "metadata": {},
   "outputs": [
    {
     "name": "stdout",
     "output_type": "stream",
     "text": [
      "Number of existing paths: 36\n"
     ]
    }
   ],
   "source": [
    "import json\n",
    "import math\n",
    "import os\n",
    "\n",
    "paths = df_filt['path'].to_list()\n",
    "paths_exist = [p for p in paths if os.path.exists(p)]\n",
    "print(f'Number of existing paths: {len(paths_exist)}')\n",
    "\n",
    "N = 4\n",
    "chunk_size = math.ceil(len(paths_exist) / N)\n",
    "if not os.path.exists('lmpnn_input'):\n",
    "    os.makedirs('lmpnn_input')\n",
    "for i in range(N):\n",
    "    start = i * chunk_size\n",
    "    end = start + chunk_size\n",
    "    chunk = paths_exist[start:end]\n",
    "    filename = f'lmpnn_input/split_{i}.json'\n",
    "    with open(filename, 'w') as f:\n",
    "        json.dump(chunk, f, indent=4)"
   ]
  }
 ],
 "metadata": {
  "kernelspec": {
   "display_name": "venv",
   "language": "python",
   "name": "python3"
  },
  "language_info": {
   "codemirror_mode": {
    "name": "ipython",
    "version": 3
   },
   "file_extension": ".py",
   "mimetype": "text/x-python",
   "name": "python",
   "nbconvert_exporter": "python",
   "pygments_lexer": "ipython3",
   "version": "3.13.2"
  }
 },
 "nbformat": 4,
 "nbformat_minor": 5
}
