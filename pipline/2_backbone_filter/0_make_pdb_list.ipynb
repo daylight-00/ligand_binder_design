{
 "cells": [
  {
   "cell_type": "code",
   "execution_count": 1,
   "id": "ea337529",
   "metadata": {},
   "outputs": [
    {
     "data": {
      "application/vnd.microsoft.datawrangler.viewer.v0+json": {
       "columns": [
        {
         "name": "index",
         "rawType": "int64",
         "type": "integer"
        },
        {
         "name": "id",
         "rawType": "object",
         "type": "string"
        },
        {
         "name": "path",
         "rawType": "object",
         "type": "string"
        }
       ],
       "ref": "0adff83b-3355-40d6-a329-a4eede4c978a",
       "rows": [
        [
         "0",
         "result_0",
         "../1_diffusion/output/result_0.pdb"
        ],
        [
         "1",
         "result_1",
         "../1_diffusion/output/result_1.pdb"
        ],
        [
         "2",
         "result_2",
         "../1_diffusion/output/result_2.pdb"
        ],
        [
         "3",
         "result_3",
         "../1_diffusion/output/result_3.pdb"
        ],
        [
         "4",
         "result_4",
         "../1_diffusion/output/result_4.pdb"
        ],
        [
         "5",
         "result_5",
         "../1_diffusion/output/result_5.pdb"
        ],
        [
         "6",
         "result_6",
         "../1_diffusion/output/result_6.pdb"
        ],
        [
         "7",
         "result_7",
         "../1_diffusion/output/result_7.pdb"
        ],
        [
         "8",
         "result_8",
         "../1_diffusion/output/result_8.pdb"
        ],
        [
         "9",
         "result_9",
         "../1_diffusion/output/result_9.pdb"
        ],
        [
         "10",
         "result_10",
         "../1_diffusion/output/result_10.pdb"
        ],
        [
         "11",
         "result_11",
         "../1_diffusion/output/result_11.pdb"
        ],
        [
         "12",
         "result_12",
         "../1_diffusion/output/result_12.pdb"
        ],
        [
         "13",
         "result_13",
         "../1_diffusion/output/result_13.pdb"
        ],
        [
         "14",
         "result_14",
         "../1_diffusion/output/result_14.pdb"
        ],
        [
         "15",
         "result_15",
         "../1_diffusion/output/result_15.pdb"
        ],
        [
         "16",
         "result_16",
         "../1_diffusion/output/result_16.pdb"
        ],
        [
         "17",
         "result_17",
         "../1_diffusion/output/result_17.pdb"
        ],
        [
         "18",
         "result_18",
         "../1_diffusion/output/result_18.pdb"
        ],
        [
         "19",
         "result_19",
         "../1_diffusion/output/result_19.pdb"
        ],
        [
         "20",
         "result_20",
         "../1_diffusion/output/result_20.pdb"
        ],
        [
         "21",
         "result_21",
         "../1_diffusion/output/result_21.pdb"
        ],
        [
         "22",
         "result_22",
         "../1_diffusion/output/result_22.pdb"
        ],
        [
         "23",
         "result_23",
         "../1_diffusion/output/result_23.pdb"
        ],
        [
         "24",
         "result_24",
         "../1_diffusion/output/result_24.pdb"
        ],
        [
         "25",
         "result_25",
         "../1_diffusion/output/result_25.pdb"
        ],
        [
         "26",
         "result_26",
         "../1_diffusion/output/result_26.pdb"
        ],
        [
         "27",
         "result_27",
         "../1_diffusion/output/result_27.pdb"
        ],
        [
         "28",
         "result_28",
         "../1_diffusion/output/result_28.pdb"
        ],
        [
         "29",
         "result_29",
         "../1_diffusion/output/result_29.pdb"
        ],
        [
         "30",
         "result_30",
         "../1_diffusion/output/result_30.pdb"
        ],
        [
         "31",
         "result_31",
         "../1_diffusion/output/result_31.pdb"
        ],
        [
         "32",
         "result_32",
         "../1_diffusion/output/result_32.pdb"
        ],
        [
         "33",
         "result_33",
         "../1_diffusion/output/result_33.pdb"
        ],
        [
         "34",
         "result_34",
         "../1_diffusion/output/result_34.pdb"
        ],
        [
         "35",
         "result_35",
         "../1_diffusion/output/result_35.pdb"
        ],
        [
         "36",
         "result_36",
         "../1_diffusion/output/result_36.pdb"
        ],
        [
         "37",
         "result_37",
         "../1_diffusion/output/result_37.pdb"
        ],
        [
         "38",
         "result_38",
         "../1_diffusion/output/result_38.pdb"
        ],
        [
         "39",
         "result_39",
         "../1_diffusion/output/result_39.pdb"
        ],
        [
         "40",
         "result_40",
         "../1_diffusion/output/result_40.pdb"
        ],
        [
         "41",
         "result_41",
         "../1_diffusion/output/result_41.pdb"
        ],
        [
         "42",
         "result_42",
         "../1_diffusion/output/result_42.pdb"
        ],
        [
         "43",
         "result_43",
         "../1_diffusion/output/result_43.pdb"
        ],
        [
         "44",
         "result_44",
         "../1_diffusion/output/result_44.pdb"
        ],
        [
         "45",
         "result_45",
         "../1_diffusion/output/result_45.pdb"
        ],
        [
         "46",
         "result_46",
         "../1_diffusion/output/result_46.pdb"
        ],
        [
         "47",
         "result_47",
         "../1_diffusion/output/result_47.pdb"
        ],
        [
         "48",
         "result_48",
         "../1_diffusion/output/result_48.pdb"
        ],
        [
         "49",
         "result_49",
         "../1_diffusion/output/result_49.pdb"
        ]
       ],
       "shape": {
        "columns": 2,
        "rows": 64
       }
      },
      "text/html": [
       "<div>\n",
       "<style scoped>\n",
       "    .dataframe tbody tr th:only-of-type {\n",
       "        vertical-align: middle;\n",
       "    }\n",
       "\n",
       "    .dataframe tbody tr th {\n",
       "        vertical-align: top;\n",
       "    }\n",
       "\n",
       "    .dataframe thead th {\n",
       "        text-align: right;\n",
       "    }\n",
       "</style>\n",
       "<table border=\"1\" class=\"dataframe\">\n",
       "  <thead>\n",
       "    <tr style=\"text-align: right;\">\n",
       "      <th></th>\n",
       "      <th>id</th>\n",
       "      <th>path</th>\n",
       "    </tr>\n",
       "  </thead>\n",
       "  <tbody>\n",
       "    <tr>\n",
       "      <th>0</th>\n",
       "      <td>result_0</td>\n",
       "      <td>../1_diffusion/output/result_0.pdb</td>\n",
       "    </tr>\n",
       "    <tr>\n",
       "      <th>1</th>\n",
       "      <td>result_1</td>\n",
       "      <td>../1_diffusion/output/result_1.pdb</td>\n",
       "    </tr>\n",
       "    <tr>\n",
       "      <th>2</th>\n",
       "      <td>result_2</td>\n",
       "      <td>../1_diffusion/output/result_2.pdb</td>\n",
       "    </tr>\n",
       "    <tr>\n",
       "      <th>3</th>\n",
       "      <td>result_3</td>\n",
       "      <td>../1_diffusion/output/result_3.pdb</td>\n",
       "    </tr>\n",
       "    <tr>\n",
       "      <th>4</th>\n",
       "      <td>result_4</td>\n",
       "      <td>../1_diffusion/output/result_4.pdb</td>\n",
       "    </tr>\n",
       "    <tr>\n",
       "      <th>...</th>\n",
       "      <td>...</td>\n",
       "      <td>...</td>\n",
       "    </tr>\n",
       "    <tr>\n",
       "      <th>59</th>\n",
       "      <td>result_59</td>\n",
       "      <td>../1_diffusion/output/result_59.pdb</td>\n",
       "    </tr>\n",
       "    <tr>\n",
       "      <th>60</th>\n",
       "      <td>result_60</td>\n",
       "      <td>../1_diffusion/output/result_60.pdb</td>\n",
       "    </tr>\n",
       "    <tr>\n",
       "      <th>61</th>\n",
       "      <td>result_61</td>\n",
       "      <td>../1_diffusion/output/result_61.pdb</td>\n",
       "    </tr>\n",
       "    <tr>\n",
       "      <th>62</th>\n",
       "      <td>result_62</td>\n",
       "      <td>../1_diffusion/output/result_62.pdb</td>\n",
       "    </tr>\n",
       "    <tr>\n",
       "      <th>63</th>\n",
       "      <td>result_63</td>\n",
       "      <td>../1_diffusion/output/result_63.pdb</td>\n",
       "    </tr>\n",
       "  </tbody>\n",
       "</table>\n",
       "<p>64 rows × 2 columns</p>\n",
       "</div>"
      ],
      "text/plain": [
       "           id                                 path\n",
       "0    result_0   ../1_diffusion/output/result_0.pdb\n",
       "1    result_1   ../1_diffusion/output/result_1.pdb\n",
       "2    result_2   ../1_diffusion/output/result_2.pdb\n",
       "3    result_3   ../1_diffusion/output/result_3.pdb\n",
       "4    result_4   ../1_diffusion/output/result_4.pdb\n",
       "..        ...                                  ...\n",
       "59  result_59  ../1_diffusion/output/result_59.pdb\n",
       "60  result_60  ../1_diffusion/output/result_60.pdb\n",
       "61  result_61  ../1_diffusion/output/result_61.pdb\n",
       "62  result_62  ../1_diffusion/output/result_62.pdb\n",
       "63  result_63  ../1_diffusion/output/result_63.pdb\n",
       "\n",
       "[64 rows x 2 columns]"
      ]
     },
     "execution_count": 1,
     "metadata": {},
     "output_type": "execute_result"
    }
   ],
   "source": [
    "from glob import glob\n",
    "import pandas as pd\n",
    "\n",
    "def natural_key(x):\n",
    "    num = ''.join(filter(str.isdigit, x))\n",
    "    return int(num) if num else x\n",
    "\n",
    "base_path = '../1_diffusion/output'\n",
    "pdb_files = glob(f\"{base_path}/*.pdb\")\n",
    "\n",
    "df = pd.DataFrame(pdb_files, columns=['path'])\n",
    "df['id'] = df['path'].apply(lambda x: x.split('/')[-1].split('.')[0])\n",
    "df = df[['id', 'path']]\n",
    "\n",
    "df = df.sort_values(by='id', key=lambda col: col.map(natural_key)).reset_index(drop=True)\n",
    "df.to_csv(f\"pdb_list.csv\", index=False)\n",
    "df"
   ]
  }
 ],
 "metadata": {
  "kernelspec": {
   "display_name": "venv",
   "language": "python",
   "name": "python3"
  },
  "language_info": {
   "codemirror_mode": {
    "name": "ipython",
    "version": 3
   },
   "file_extension": ".py",
   "mimetype": "text/x-python",
   "name": "python",
   "nbconvert_exporter": "python",
   "pygments_lexer": "ipython3",
   "version": "3.13.2"
  }
 },
 "nbformat": 4,
 "nbformat_minor": 5
}
