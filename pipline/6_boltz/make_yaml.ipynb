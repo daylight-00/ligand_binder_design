{
 "cells": [
  {
   "cell_type": "code",
   "execution_count": 1,
   "metadata": {},
   "outputs": [],
   "source": [
    "import pandas as pd\n",
    "import os\n",
    "from tqdm import tqdm\n",
    "import yaml\n",
    "\n",
    "def make_yaml(seq, lig, msa=False):\n",
    "    data = {\n",
    "        \"sequences\": [\n",
    "            {\n",
    "                \"protein\": {\n",
    "                    \"id\": \"A\",\n",
    "                    \"sequence\": seq,\n",
    "                    }\n",
    "            },\n",
    "            {\n",
    "                \"ligand\": {\n",
    "                    \"id\": \"B\",\n",
    "                    \"smiles\": lig,\n",
    "                    }\n",
    "            },\n",
    "        ],\n",
    "        \"properties\": [\n",
    "            {\n",
    "                \"affinity\": {\n",
    "                    \"binder\": \"B\",\n",
    "                }\n",
    "            }\n",
    "        ],\n",
    "    }\n",
    "    if not msa:\n",
    "        data[\"sequences\"][0][\"protein\"][\"msa\"] = \"empty\"\n",
    "    return data\n",
    "\n",
    "def write_yaml(data, name):\n",
    "    with open(f\"{name}\", 'w', encoding='utf-8') as f:\n",
    "        yaml.dump(data, f, allow_unicode=True)\n",
    "\n",
    "def process(out_path, df, lig, col='lmpnn', msa=False, NUM_FOLDERS=1):\n",
    "    for i in tqdm(range(len(df))):\n",
    "        name, sequence = df[((col, 'tag'))][i], df[((col, 'seq'))][i]\n",
    "        data = make_yaml(sequence, lig, msa)\n",
    "        folder_index = i % NUM_FOLDERS\n",
    "        folder_path = f'{out_path}/{folder_index}'\n",
    "        if not os.path.exists(folder_path):\n",
    "            os.makedirs(folder_path, exist_ok=True)\n",
    "        write_yaml(data, f'{folder_path}/{name}.yaml')\n"
   ]
  },
  {
   "cell_type": "code",
   "execution_count": 2,
   "metadata": {},
   "outputs": [
    {
     "name": "stderr",
     "output_type": "stream",
     "text": [
      "100%|██████████| 36/36 [00:00<00:00, 1209.52it/s]\n"
     ]
    }
   ],
   "source": [
    "projects = ['pht_demo']\n",
    "mappings = {\n",
    "    'pht': 'C1=CC=C(C=C1)C2(C(=O)NC(=O)N2)C3=CC=CC=C3',\n",
    "    }\n",
    "df = pd.read_parquet('../4_rscore_filter/lmpnn_filt_pht.parquet')\n",
    "out_path = 'yaml'\n",
    "col_1 = 'lmpnn'\n",
    "msa = False\n",
    "NUM_FOLDERS = 1\n",
    "for project in projects:\n",
    "    df_ = df[df[('diffusion', 'batch')] == project].reset_index(drop=True)\n",
    "    lig_name = project.split('_')[0]\n",
    "    lig = mappings[lig_name]\n",
    "    process(out_path, df_, lig, col=col_1, msa=msa, NUM_FOLDERS=NUM_FOLDERS)"
   ]
  }
 ],
 "metadata": {
  "kernelspec": {
   "display_name": "venv",
   "language": "python",
   "name": "python3"
  },
  "language_info": {
   "codemirror_mode": {
    "name": "ipython",
    "version": 3
   },
   "file_extension": ".py",
   "mimetype": "text/x-python",
   "name": "python",
   "nbconvert_exporter": "python",
   "pygments_lexer": "ipython3",
   "version": "3.13.2"
  }
 },
 "nbformat": 4,
 "nbformat_minor": 2
}
