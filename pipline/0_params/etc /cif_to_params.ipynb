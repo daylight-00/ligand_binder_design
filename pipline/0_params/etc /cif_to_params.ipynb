{
 "cells": [
  {
   "cell_type": "code",
   "execution_count": 1,
   "id": "7f4b1ceb",
   "metadata": {},
   "outputs": [
    {
     "name": "stdout",
     "output_type": "stream",
     "text": [
      "/home/hwjang/aipd/250729/9_params_re/cbz_link_boltz.mol2\n",
      "/home/hwjang/aipd/250729/9_params_re/cbz_link_af3.mol2\n",
      "/home/hwjang/aipd/250729/9_params_re/pht_link_boltz.mol2\n",
      "/home/hwjang/aipd/250729/9_params_re/pht_link_af3.mol2\n"
     ]
    }
   ],
   "source": [
    "import os\n",
    "import os, sys\n",
    "from glob import glob\n",
    "import subprocess\n",
    "\n",
    "os.environ['PATH'] = os.environ['PATH'] + ':/home/hwjang/miniforge3/envs/rfdaa/bin'\n",
    "src_path = '/home/hwjang/aipd/rosetta/source/scripts/python/public/generic_potential/mol2genparams.py'\n",
    "cif_list = glob('/home/hwjang/aipd/250729/9_params_re/*.mol2')\n",
    "outdir_mol2 = 'ligands'\n",
    "outdir_params = 'params'\n",
    "\n",
    "# if not os.path.exists(outdir_mol2):\n",
    "#     os.mkdir(outdir_mol2)\n",
    "if not os.path.exists(outdir_params):\n",
    "    os.mkdir(outdir_params)\n",
    "\n",
    "for cif_file in cif_list:\n",
    "    name = os.path.splitext(os.path.basename(cif_file))[0]\n",
    "    if '_af3' in name:\n",
    "        ligand_name = 'LIG_B'\n",
    "    elif '_boltz' in name:\n",
    "        ligand_name = 'LIG1'\n",
    "    ### \n",
    "    mol2_file = cif_file\n",
    "    cmd = [\n",
    "        \"python\", src_path,\n",
    "        \"-s\", mol2_file,\n",
    "        \"--outdir\", outdir_params,\n",
    "        # \"--resname\", ligand_name\n",
    "    ]\n",
    "    # print(' '.join(cmd))\n",
    "    subprocess.run(cmd)\n",
    "    ###\n",
    "    params_path = f\"{outdir_params}/{name}.params\"\n",
    "    with open(params_path, \"r\") as f:\n",
    "        content = f.read()\n",
    "    content = content.replace(\"LG1\", ligand_name)\n",
    "    with open(params_path, \"w\") as f:\n",
    "        f.write(content)"
   ]
  }
 ],
 "metadata": {
  "kernelspec": {
   "display_name": "rfdaa",
   "language": "python",
   "name": "python3"
  },
  "language_info": {
   "codemirror_mode": {
    "name": "ipython",
    "version": 3
   },
   "file_extension": ".py",
   "mimetype": "text/x-python",
   "name": "python",
   "nbconvert_exporter": "python",
   "pygments_lexer": "ipython3",
   "version": "3.12.11"
  }
 },
 "nbformat": 4,
 "nbformat_minor": 5
}
