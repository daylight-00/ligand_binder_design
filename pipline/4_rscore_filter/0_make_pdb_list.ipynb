{
 "cells": [
  {
   "cell_type": "code",
   "execution_count": 1,
   "id": "ea337529",
   "metadata": {},
   "outputs": [
    {
     "data": {
      "application/vnd.microsoft.datawrangler.viewer.v0+json": {
       "columns": [
        {
         "name": "index",
         "rawType": "int64",
         "type": "integer"
        },
        {
         "name": "('lmpnn', 'tag')",
         "rawType": "object",
         "type": "string"
        },
        {
         "name": "('lmpnn', 'path')",
         "rawType": "object",
         "type": "string"
        },
        {
         "name": "('diffusion', 'id')",
         "rawType": "object",
         "type": "string"
        },
        {
         "name": "('diffusion', 'batch')",
         "rawType": "object",
         "type": "string"
        }
       ],
       "ref": "82de766b-a5b4-4cd1-85c4-162b6c75d008",
       "rows": [
        [
         "0",
         "result_2_packed_1_1",
         "../3_lmpnn/output/packed/result_2_packed_1_1.pdb",
         "result_2_packed_1_1",
         "pht_demo"
        ],
        [
         "1",
         "result_2_packed_2_1",
         "../3_lmpnn/output/packed/result_2_packed_2_1.pdb",
         "result_2_packed_2_1",
         "pht_demo"
        ],
        [
         "2",
         "result_2_packed_3_1",
         "../3_lmpnn/output/packed/result_2_packed_3_1.pdb",
         "result_2_packed_3_1",
         "pht_demo"
        ],
        [
         "3",
         "result_2_packed_4_1",
         "../3_lmpnn/output/packed/result_2_packed_4_1.pdb",
         "result_2_packed_4_1",
         "pht_demo"
        ],
        [
         "4",
         "result_2_packed_5_1",
         "../3_lmpnn/output/packed/result_2_packed_5_1.pdb",
         "result_2_packed_5_1",
         "pht_demo"
        ],
        [
         "5",
         "result_2_packed_6_1",
         "../3_lmpnn/output/packed/result_2_packed_6_1.pdb",
         "result_2_packed_6_1",
         "pht_demo"
        ],
        [
         "6",
         "result_2_packed_7_1",
         "../3_lmpnn/output/packed/result_2_packed_7_1.pdb",
         "result_2_packed_7_1",
         "pht_demo"
        ],
        [
         "7",
         "result_2_packed_8_1",
         "../3_lmpnn/output/packed/result_2_packed_8_1.pdb",
         "result_2_packed_8_1",
         "pht_demo"
        ],
        [
         "8",
         "result_3_packed_1_1",
         "../3_lmpnn/output/packed/result_3_packed_1_1.pdb",
         "result_3_packed_1_1",
         "pht_demo"
        ],
        [
         "9",
         "result_3_packed_2_1",
         "../3_lmpnn/output/packed/result_3_packed_2_1.pdb",
         "result_3_packed_2_1",
         "pht_demo"
        ],
        [
         "10",
         "result_3_packed_3_1",
         "../3_lmpnn/output/packed/result_3_packed_3_1.pdb",
         "result_3_packed_3_1",
         "pht_demo"
        ],
        [
         "11",
         "result_3_packed_4_1",
         "../3_lmpnn/output/packed/result_3_packed_4_1.pdb",
         "result_3_packed_4_1",
         "pht_demo"
        ],
        [
         "12",
         "result_3_packed_5_1",
         "../3_lmpnn/output/packed/result_3_packed_5_1.pdb",
         "result_3_packed_5_1",
         "pht_demo"
        ],
        [
         "13",
         "result_3_packed_6_1",
         "../3_lmpnn/output/packed/result_3_packed_6_1.pdb",
         "result_3_packed_6_1",
         "pht_demo"
        ],
        [
         "14",
         "result_3_packed_7_1",
         "../3_lmpnn/output/packed/result_3_packed_7_1.pdb",
         "result_3_packed_7_1",
         "pht_demo"
        ],
        [
         "15",
         "result_3_packed_8_1",
         "../3_lmpnn/output/packed/result_3_packed_8_1.pdb",
         "result_3_packed_8_1",
         "pht_demo"
        ],
        [
         "16",
         "result_4_packed_1_1",
         "../3_lmpnn/output/packed/result_4_packed_1_1.pdb",
         "result_4_packed_1_1",
         "pht_demo"
        ],
        [
         "17",
         "result_4_packed_2_1",
         "../3_lmpnn/output/packed/result_4_packed_2_1.pdb",
         "result_4_packed_2_1",
         "pht_demo"
        ],
        [
         "18",
         "result_4_packed_3_1",
         "../3_lmpnn/output/packed/result_4_packed_3_1.pdb",
         "result_4_packed_3_1",
         "pht_demo"
        ],
        [
         "19",
         "result_4_packed_4_1",
         "../3_lmpnn/output/packed/result_4_packed_4_1.pdb",
         "result_4_packed_4_1",
         "pht_demo"
        ],
        [
         "20",
         "result_4_packed_5_1",
         "../3_lmpnn/output/packed/result_4_packed_5_1.pdb",
         "result_4_packed_5_1",
         "pht_demo"
        ],
        [
         "21",
         "result_4_packed_6_1",
         "../3_lmpnn/output/packed/result_4_packed_6_1.pdb",
         "result_4_packed_6_1",
         "pht_demo"
        ],
        [
         "22",
         "result_4_packed_7_1",
         "../3_lmpnn/output/packed/result_4_packed_7_1.pdb",
         "result_4_packed_7_1",
         "pht_demo"
        ],
        [
         "23",
         "result_4_packed_8_1",
         "../3_lmpnn/output/packed/result_4_packed_8_1.pdb",
         "result_4_packed_8_1",
         "pht_demo"
        ],
        [
         "24",
         "result_5_packed_1_1",
         "../3_lmpnn/output/packed/result_5_packed_1_1.pdb",
         "result_5_packed_1_1",
         "pht_demo"
        ],
        [
         "25",
         "result_5_packed_2_1",
         "../3_lmpnn/output/packed/result_5_packed_2_1.pdb",
         "result_5_packed_2_1",
         "pht_demo"
        ],
        [
         "26",
         "result_5_packed_3_1",
         "../3_lmpnn/output/packed/result_5_packed_3_1.pdb",
         "result_5_packed_3_1",
         "pht_demo"
        ],
        [
         "27",
         "result_5_packed_4_1",
         "../3_lmpnn/output/packed/result_5_packed_4_1.pdb",
         "result_5_packed_4_1",
         "pht_demo"
        ],
        [
         "28",
         "result_5_packed_5_1",
         "../3_lmpnn/output/packed/result_5_packed_5_1.pdb",
         "result_5_packed_5_1",
         "pht_demo"
        ],
        [
         "29",
         "result_5_packed_6_1",
         "../3_lmpnn/output/packed/result_5_packed_6_1.pdb",
         "result_5_packed_6_1",
         "pht_demo"
        ],
        [
         "30",
         "result_5_packed_7_1",
         "../3_lmpnn/output/packed/result_5_packed_7_1.pdb",
         "result_5_packed_7_1",
         "pht_demo"
        ],
        [
         "31",
         "result_5_packed_8_1",
         "../3_lmpnn/output/packed/result_5_packed_8_1.pdb",
         "result_5_packed_8_1",
         "pht_demo"
        ],
        [
         "32",
         "result_7_packed_1_1",
         "../3_lmpnn/output/packed/result_7_packed_1_1.pdb",
         "result_7_packed_1_1",
         "pht_demo"
        ],
        [
         "33",
         "result_7_packed_2_1",
         "../3_lmpnn/output/packed/result_7_packed_2_1.pdb",
         "result_7_packed_2_1",
         "pht_demo"
        ],
        [
         "34",
         "result_7_packed_3_1",
         "../3_lmpnn/output/packed/result_7_packed_3_1.pdb",
         "result_7_packed_3_1",
         "pht_demo"
        ],
        [
         "35",
         "result_7_packed_4_1",
         "../3_lmpnn/output/packed/result_7_packed_4_1.pdb",
         "result_7_packed_4_1",
         "pht_demo"
        ],
        [
         "36",
         "result_7_packed_5_1",
         "../3_lmpnn/output/packed/result_7_packed_5_1.pdb",
         "result_7_packed_5_1",
         "pht_demo"
        ],
        [
         "37",
         "result_7_packed_6_1",
         "../3_lmpnn/output/packed/result_7_packed_6_1.pdb",
         "result_7_packed_6_1",
         "pht_demo"
        ],
        [
         "38",
         "result_7_packed_7_1",
         "../3_lmpnn/output/packed/result_7_packed_7_1.pdb",
         "result_7_packed_7_1",
         "pht_demo"
        ],
        [
         "39",
         "result_7_packed_8_1",
         "../3_lmpnn/output/packed/result_7_packed_8_1.pdb",
         "result_7_packed_8_1",
         "pht_demo"
        ],
        [
         "40",
         "result_9_packed_1_1",
         "../3_lmpnn/output/packed/result_9_packed_1_1.pdb",
         "result_9_packed_1_1",
         "pht_demo"
        ],
        [
         "41",
         "result_9_packed_2_1",
         "../3_lmpnn/output/packed/result_9_packed_2_1.pdb",
         "result_9_packed_2_1",
         "pht_demo"
        ],
        [
         "42",
         "result_9_packed_3_1",
         "../3_lmpnn/output/packed/result_9_packed_3_1.pdb",
         "result_9_packed_3_1",
         "pht_demo"
        ],
        [
         "43",
         "result_9_packed_4_1",
         "../3_lmpnn/output/packed/result_9_packed_4_1.pdb",
         "result_9_packed_4_1",
         "pht_demo"
        ],
        [
         "44",
         "result_9_packed_5_1",
         "../3_lmpnn/output/packed/result_9_packed_5_1.pdb",
         "result_9_packed_5_1",
         "pht_demo"
        ],
        [
         "45",
         "result_9_packed_6_1",
         "../3_lmpnn/output/packed/result_9_packed_6_1.pdb",
         "result_9_packed_6_1",
         "pht_demo"
        ],
        [
         "46",
         "result_9_packed_7_1",
         "../3_lmpnn/output/packed/result_9_packed_7_1.pdb",
         "result_9_packed_7_1",
         "pht_demo"
        ],
        [
         "47",
         "result_9_packed_8_1",
         "../3_lmpnn/output/packed/result_9_packed_8_1.pdb",
         "result_9_packed_8_1",
         "pht_demo"
        ],
        [
         "48",
         "result_10_packed_1_1",
         "../3_lmpnn/output/packed/result_10_packed_1_1.pdb",
         "result_10_packed_1_1",
         "pht_demo"
        ],
        [
         "49",
         "result_10_packed_2_1",
         "../3_lmpnn/output/packed/result_10_packed_2_1.pdb",
         "result_10_packed_2_1",
         "pht_demo"
        ]
       ],
       "shape": {
        "columns": 4,
        "rows": 288
       }
      },
      "text/html": [
       "<div>\n",
       "<style scoped>\n",
       "    .dataframe tbody tr th:only-of-type {\n",
       "        vertical-align: middle;\n",
       "    }\n",
       "\n",
       "    .dataframe tbody tr th {\n",
       "        vertical-align: top;\n",
       "    }\n",
       "\n",
       "    .dataframe thead tr th {\n",
       "        text-align: left;\n",
       "    }\n",
       "</style>\n",
       "<table border=\"1\" class=\"dataframe\">\n",
       "  <thead>\n",
       "    <tr>\n",
       "      <th></th>\n",
       "      <th colspan=\"2\" halign=\"left\">lmpnn</th>\n",
       "      <th colspan=\"2\" halign=\"left\">diffusion</th>\n",
       "    </tr>\n",
       "    <tr>\n",
       "      <th></th>\n",
       "      <th>tag</th>\n",
       "      <th>path</th>\n",
       "      <th>id</th>\n",
       "      <th>batch</th>\n",
       "    </tr>\n",
       "  </thead>\n",
       "  <tbody>\n",
       "    <tr>\n",
       "      <th>0</th>\n",
       "      <td>result_2_packed_1_1</td>\n",
       "      <td>../3_lmpnn/output/packed/result_2_packed_1_1.pdb</td>\n",
       "      <td>result_2_packed_1_1</td>\n",
       "      <td>pht_demo</td>\n",
       "    </tr>\n",
       "    <tr>\n",
       "      <th>1</th>\n",
       "      <td>result_2_packed_2_1</td>\n",
       "      <td>../3_lmpnn/output/packed/result_2_packed_2_1.pdb</td>\n",
       "      <td>result_2_packed_2_1</td>\n",
       "      <td>pht_demo</td>\n",
       "    </tr>\n",
       "    <tr>\n",
       "      <th>2</th>\n",
       "      <td>result_2_packed_3_1</td>\n",
       "      <td>../3_lmpnn/output/packed/result_2_packed_3_1.pdb</td>\n",
       "      <td>result_2_packed_3_1</td>\n",
       "      <td>pht_demo</td>\n",
       "    </tr>\n",
       "    <tr>\n",
       "      <th>3</th>\n",
       "      <td>result_2_packed_4_1</td>\n",
       "      <td>../3_lmpnn/output/packed/result_2_packed_4_1.pdb</td>\n",
       "      <td>result_2_packed_4_1</td>\n",
       "      <td>pht_demo</td>\n",
       "    </tr>\n",
       "    <tr>\n",
       "      <th>4</th>\n",
       "      <td>result_2_packed_5_1</td>\n",
       "      <td>../3_lmpnn/output/packed/result_2_packed_5_1.pdb</td>\n",
       "      <td>result_2_packed_5_1</td>\n",
       "      <td>pht_demo</td>\n",
       "    </tr>\n",
       "    <tr>\n",
       "      <th>...</th>\n",
       "      <td>...</td>\n",
       "      <td>...</td>\n",
       "      <td>...</td>\n",
       "      <td>...</td>\n",
       "    </tr>\n",
       "    <tr>\n",
       "      <th>283</th>\n",
       "      <td>result_62_packed_4_1</td>\n",
       "      <td>../3_lmpnn/output/packed/result_62_packed_4_1.pdb</td>\n",
       "      <td>result_62_packed_4_1</td>\n",
       "      <td>pht_demo</td>\n",
       "    </tr>\n",
       "    <tr>\n",
       "      <th>284</th>\n",
       "      <td>result_62_packed_5_1</td>\n",
       "      <td>../3_lmpnn/output/packed/result_62_packed_5_1.pdb</td>\n",
       "      <td>result_62_packed_5_1</td>\n",
       "      <td>pht_demo</td>\n",
       "    </tr>\n",
       "    <tr>\n",
       "      <th>285</th>\n",
       "      <td>result_62_packed_6_1</td>\n",
       "      <td>../3_lmpnn/output/packed/result_62_packed_6_1.pdb</td>\n",
       "      <td>result_62_packed_6_1</td>\n",
       "      <td>pht_demo</td>\n",
       "    </tr>\n",
       "    <tr>\n",
       "      <th>286</th>\n",
       "      <td>result_62_packed_7_1</td>\n",
       "      <td>../3_lmpnn/output/packed/result_62_packed_7_1.pdb</td>\n",
       "      <td>result_62_packed_7_1</td>\n",
       "      <td>pht_demo</td>\n",
       "    </tr>\n",
       "    <tr>\n",
       "      <th>287</th>\n",
       "      <td>result_62_packed_8_1</td>\n",
       "      <td>../3_lmpnn/output/packed/result_62_packed_8_1.pdb</td>\n",
       "      <td>result_62_packed_8_1</td>\n",
       "      <td>pht_demo</td>\n",
       "    </tr>\n",
       "  </tbody>\n",
       "</table>\n",
       "<p>288 rows × 4 columns</p>\n",
       "</div>"
      ],
      "text/plain": [
       "                    lmpnn                                                     \\\n",
       "                      tag                                               path   \n",
       "0     result_2_packed_1_1   ../3_lmpnn/output/packed/result_2_packed_1_1.pdb   \n",
       "1     result_2_packed_2_1   ../3_lmpnn/output/packed/result_2_packed_2_1.pdb   \n",
       "2     result_2_packed_3_1   ../3_lmpnn/output/packed/result_2_packed_3_1.pdb   \n",
       "3     result_2_packed_4_1   ../3_lmpnn/output/packed/result_2_packed_4_1.pdb   \n",
       "4     result_2_packed_5_1   ../3_lmpnn/output/packed/result_2_packed_5_1.pdb   \n",
       "..                    ...                                                ...   \n",
       "283  result_62_packed_4_1  ../3_lmpnn/output/packed/result_62_packed_4_1.pdb   \n",
       "284  result_62_packed_5_1  ../3_lmpnn/output/packed/result_62_packed_5_1.pdb   \n",
       "285  result_62_packed_6_1  ../3_lmpnn/output/packed/result_62_packed_6_1.pdb   \n",
       "286  result_62_packed_7_1  ../3_lmpnn/output/packed/result_62_packed_7_1.pdb   \n",
       "287  result_62_packed_8_1  ../3_lmpnn/output/packed/result_62_packed_8_1.pdb   \n",
       "\n",
       "                diffusion            \n",
       "                       id     batch  \n",
       "0     result_2_packed_1_1  pht_demo  \n",
       "1     result_2_packed_2_1  pht_demo  \n",
       "2     result_2_packed_3_1  pht_demo  \n",
       "3     result_2_packed_4_1  pht_demo  \n",
       "4     result_2_packed_5_1  pht_demo  \n",
       "..                    ...       ...  \n",
       "283  result_62_packed_4_1  pht_demo  \n",
       "284  result_62_packed_5_1  pht_demo  \n",
       "285  result_62_packed_6_1  pht_demo  \n",
       "286  result_62_packed_7_1  pht_demo  \n",
       "287  result_62_packed_8_1  pht_demo  \n",
       "\n",
       "[288 rows x 4 columns]"
      ]
     },
     "execution_count": 1,
     "metadata": {},
     "output_type": "execute_result"
    }
   ],
   "source": [
    "from glob import glob\n",
    "import pandas as pd\n",
    "\n",
    "def natural_key(x):\n",
    "    num = ''.join(filter(str.isdigit, x))\n",
    "    return int(num) if num else x\n",
    "\n",
    "base_path = '../3_lmpnn/output/packed'\n",
    "pdb_files = glob(f\"{base_path}/*_1.pdb\")\n",
    "\n",
    "col_1 = 'lmpnn'\n",
    "col_2 = 'diffusion'\n",
    "project = 'pht_demo'\n",
    "df = pd.DataFrame(pdb_files, columns=[(col_1, 'path')])\n",
    "df[(col_1, 'tag')] = df[(col_1, 'path')].apply(lambda x: x.split('/')[-1].split('.pdb')[0])\n",
    "df = df[[(col_1, 'tag'), (col_1, 'path')]]\n",
    "df[(col_2, 'id')] = df[(col_1, 'tag')].apply(lambda x: x.split('_relaxed_packed')[0])\n",
    "df[(col_2, 'batch')] = project\n",
    "\n",
    "df = df.sort_values(by=(col_2, 'id'), key=lambda col: col.map(natural_key)).reset_index(drop=True)\n",
    "df.columns = pd.MultiIndex.from_tuples(df.columns)\n",
    "df.to_parquet(f\"lmpnn_list.parquet\")\n",
    "df"
   ]
  },
  {
   "cell_type": "code",
   "execution_count": 2,
   "id": "ccc461a1",
   "metadata": {},
   "outputs": [
    {
     "name": "stderr",
     "output_type": "stream",
     "text": [
      "/home/hwjang/miniforge3/envs/venv/lib/python3.13/site-packages/numpy/_core/fromnumeric.py:57: FutureWarning: 'DataFrame.swapaxes' is deprecated and will be removed in a future version. Please use 'DataFrame.transpose' instead.\n",
      "  return bound(*args, **kwds)\n"
     ]
    }
   ],
   "source": [
    "import os\n",
    "import numpy as np\n",
    "N = 4\n",
    "split_dfs = np.array_split(df, N)\n",
    "\n",
    "if not os.path.exists('rscore_input'):\n",
    "    os.makedirs('rscore_input')\n",
    "for i, split_df in enumerate(split_dfs):\n",
    "    split_df.to_parquet(f'rscore_input/split_{i}.parquet')"
   ]
  }
 ],
 "metadata": {
  "kernelspec": {
   "display_name": "venv",
   "language": "python",
   "name": "python3"
  },
  "language_info": {
   "codemirror_mode": {
    "name": "ipython",
    "version": 3
   },
   "file_extension": ".py",
   "mimetype": "text/x-python",
   "name": "python",
   "nbconvert_exporter": "python",
   "pygments_lexer": "ipython3",
   "version": "3.13.2"
  }
 },
 "nbformat": 4,
 "nbformat_minor": 5
}
